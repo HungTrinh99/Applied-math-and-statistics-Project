{
  "nbformat": 4,
  "nbformat_minor": 0,
  "metadata": {
    "colab": {
      "name": "Đồ án 2 - TUDTK.ipynb",
      "provenance": [],
      "collapsed_sections": []
    },
    "kernelspec": {
      "name": "python3",
      "display_name": "Python 3"
    },
    "accelerator": "GPU"
  },
  "cells": [
    {
      "cell_type": "code",
      "metadata": {
        "id": "y4sVJEQEKg-K",
        "colab_type": "code",
        "colab": {}
      },
      "source": [
        "# các thu viện cần thiết\n",
        "import pandas as pd\n",
        "import numpy as np\n",
        "import pickle\n",
        "from matplotlib import pyplot as plt\n",
        "from sklearn.decomposition import PCA\n",
        "from sklearn.preprocessing import StandardScaler\n",
        "from sklearn.model_selection import train_test_split\n",
        "from sklearn.linear_model import LogisticRegression"
      ],
      "execution_count": 42,
      "outputs": []
    },
    {
      "cell_type": "code",
      "metadata": {
        "id": "ZYga9MsvPaMI",
        "colab_type": "code",
        "colab": {}
      },
      "source": [
        "def loadData(path):\n",
        "  '''\n",
        "    Thực hiện đọc dữ liệu từ file .csv\n",
        "\n",
        "    Input:\n",
        "      path: str\n",
        "        đường dẫn đến file .cvs cần đọc dữ liệu\n",
        "    Output:\n",
        "      data: ndarray, dtype=int64\n",
        "        chứa data của dữ liệu\n",
        "      label: ndrray, dtype=int64\n",
        "        chứa nhãn của dữ liệu\n",
        "  '''\n",
        "\n",
        "  # load data\n",
        "  df = pd.read_csv(\"train.csv\")\n",
        "\n",
        "  # truy xuat data values\n",
        "  database = df.values\n",
        "\n",
        "  # truy xuất data\n",
        "  data = database[:,1:]\n",
        "  # truy xuất label\n",
        "  labels = database[:,0]\n",
        "\n",
        "  # trả về data, label\n",
        "  return data, labels"
      ],
      "execution_count": 43,
      "outputs": []
    },
    {
      "cell_type": "code",
      "metadata": {
        "id": "NJz4RyQbN42N",
        "colab_type": "code",
        "colab": {}
      },
      "source": [
        "def data2Img(data):\n",
        "  '''\n",
        "    Thực hiện chuyển đổi cơ sở dữ liệu data ở dạng dòng thành data ma trận hình ảnh\n",
        "\n",
        "    Input:\n",
        "      data: ndarray, dtype=int64\n",
        "        data chứa cơ sở dữ liệu dòng của hình ảnh\n",
        "    Output:\n",
        "      images: adarray, dtype=int8\n",
        "        chứa ma trận các hình ảnh đã được chuyển đổi\n",
        "  '''\n",
        "\n",
        "  # khi doc vao la kieu int64 nen ta can chuyen ve du lieu uint8 (la kieu du lieu cua anh)\n",
        "  data_t = data.astype(np.uint8)\n",
        "\n",
        "  # convert ve ma tran 28x28 va luu vao list images\n",
        "  images = []\n",
        "\n",
        "  for _data in data_t:\n",
        "      _data = _data.reshape(-1,28)\n",
        "      images.append(_data)\n",
        "  # bien list thanh numpy.narray\n",
        "  images = np.array(images)\n",
        "\n",
        "  # trả về tập hình ảnh\n",
        "  return images"
      ],
      "execution_count": 44,
      "outputs": []
    },
    {
      "cell_type": "code",
      "metadata": {
        "id": "AqJvfxCbQFTr",
        "colab_type": "code",
        "colab": {}
      },
      "source": [
        "def showImgByLabel(images, labels, label, n):\n",
        "  '''\n",
        "    Thực hiện show hình ảnh theo label được cung cấp\n",
        "\n",
        "    Input:\n",
        "      images: ndarray, dtype=int8\n",
        "        tập hình ảnh của cơ sở dữ liệu\n",
        "      labels: ndarray\n",
        "        tập nhãn của cơ sở dữ liệu\n",
        "      label: type=int\n",
        "        nhãn truyền vào muốn hiển hình ảnh (giới hạn 0 -> 24)\n",
        "      n: type=int\n",
        "        số lượng hình muốn hiển thị ở nhãn đó\n",
        "    Output:\n",
        "      out: hình ảnh được hiển thiện trên màn hình\n",
        "  '''\n",
        "\n",
        "  count = 0; # biến đếm tổng số hình\n",
        "  for i in range(images.shape[0]):\n",
        "    # kiểm tra label\n",
        "    if labels[i] == label:\n",
        "      # hiển thị hình ảnh lên màn hình\n",
        "      plt.imshow(images[i], cmap=\"gray\")\n",
        "      plt.show()\n",
        "      count += 1\n",
        "\n",
        "    # kiểm tra đã đủ số hình chưa\n",
        "    if count == n:\n",
        "      break"
      ],
      "execution_count": 45,
      "outputs": []
    },
    {
      "cell_type": "code",
      "metadata": {
        "id": "MUqSDoeV3xIf",
        "colab_type": "code",
        "colab": {}
      },
      "source": [
        "  def trainStandardScaler(data):\n",
        "    '''\n",
        "      Đào tạo mô hình\n",
        "\n",
        "      Chuẩn hóa các tính năng bằng cách loại bỏ giá trị trung bình và tỷ lệ theo phương sai đơn vị\n",
        "\n",
        "      Điểm chuẩn của một mẫu x được tính như sau:\n",
        "\n",
        "        z = (x - u) / s\n",
        "      \n",
        "      Input:\n",
        "        data: ndarray\n",
        "          data làm chuẩn cần training\n",
        "      Output: \n",
        "        scaler: sklearn.preprocessing.StandardScaler\n",
        "          model scaler đã được đào tạo\n",
        "    '''\n",
        "\n",
        "    scaler = StandardScaler()\n",
        "    # Fit on training set only.\n",
        "    scaler.fit(data)\n",
        "\n",
        "    return scaler"
      ],
      "execution_count": 46,
      "outputs": []
    },
    {
      "cell_type": "code",
      "metadata": {
        "id": "lkm-dqW_30uR",
        "colab_type": "code",
        "colab": {}
      },
      "source": [
        "def saveModel(model, path):\n",
        "  '''\n",
        "  Lưu model đã được đào tạo\n",
        "\n",
        "  Input: \n",
        "    model: \n",
        "      model được đào tạo cần lưu\n",
        "    path: str\n",
        "      đường dẫn cần lưu\n",
        "  Output\n",
        "    out: model được lưu ra file\n",
        "  '''\n",
        "\n",
        "  pickle.dump(model, open(path,'wb'))"
      ],
      "execution_count": 47,
      "outputs": []
    },
    {
      "cell_type": "code",
      "metadata": {
        "id": "uFIs1zAi34AK",
        "colab_type": "code",
        "colab": {}
      },
      "source": [
        "def loadModel(path):\n",
        "  '''\n",
        "    Tải lên model từ file\n",
        "\n",
        "    Input: \n",
        "      path: str\n",
        "        Đường dẫn đến file chứa model \n",
        "    Output:\n",
        "      model: biến chứa model\n",
        "  '''\n",
        "\n",
        "  # load model\n",
        "  model = pickle.load(open(path,'rb'))  \n",
        "\n",
        "  # trả về\n",
        "  return model"
      ],
      "execution_count": 48,
      "outputs": []
    },
    {
      "cell_type": "code",
      "metadata": {
        "id": "7mlPIZJT5BJe",
        "colab_type": "code",
        "colab": {}
      },
      "source": [
        "def trainPCA(data, n):\n",
        "  '''\n",
        "    Đào tạo mô hình PCA\n",
        "\n",
        "    Input:\n",
        "      data: ndarray\n",
        "        data cần đào tạo\n",
        "      n: int\n",
        "        số thành phần cần giữ lại\n",
        "    Output:\n",
        "      pca: sklearn.decomposition.PCA\n",
        "        model PCA đã được đào tạo\n",
        "  '''\n",
        "\n",
        "  # Make an instance of the Model\n",
        "  pca = PCA(n)\n",
        "\n",
        "  # train\n",
        "  pca.fit(data)\n",
        "\n",
        "  return pca"
      ],
      "execution_count": 49,
      "outputs": []
    },
    {
      "cell_type": "code",
      "metadata": {
        "id": "7rOZHjLm7MvH",
        "colab_type": "code",
        "colab": {}
      },
      "source": [
        "def trainLogisticRegression(data, label):\n",
        "  '''\n",
        "    Đào tạo mô hình hồi quy Logistic\n",
        "\n",
        "    Input:\n",
        "      data: ndarray\n",
        "        Data cần đào tạo\n",
        "      label: ndarray\n",
        "        Nhãn tương ứng với data\n",
        "    Ouput:\n",
        "      model: sklearn.linear_model.LogisticRegression\n",
        "        model đã được đào tạo\n",
        "  '''\n",
        "\n",
        "  # all parameters not specified are set to their defaults\n",
        "  # default solver is incredibly slow which is why it was changed to 'lbfgs'\n",
        "  model = LogisticRegression(solver = 'lbfgs')\n",
        "\n",
        "  # train\n",
        "  model.fit(data, label)\n",
        "\n",
        "  return model"
      ],
      "execution_count": 50,
      "outputs": []
    },
    {
      "cell_type": "code",
      "metadata": {
        "id": "joBKnP_38dK7",
        "colab_type": "code",
        "colab": {}
      },
      "source": [
        "def preprocessingData(data, label):\n",
        "  '''\n",
        "    Tiền xử lí dữ liệu data và nhãn tương ứng:\n",
        "    data thì sử dụng 2 kĩ thuật (scaler, pca),\n",
        "    label thì chuyển đổi kiểu dữ liệu\n",
        "\n",
        "    Input:\n",
        "      data: ndarray\n",
        "        data cần tiền xử lí\n",
        "      label: ndarray\n",
        "        label cần tiền xử lí\n",
        "    Output:\n",
        "      data_new: ndarray\n",
        "        data đã được xử lí\n",
        "      label_new: ndarray\n",
        "        label đã được chuyển đổi kiểu dữ liệu\n",
        "  '''\n",
        "\n",
        "  # chuyển đổi kiểu dữ liệu cho data thành float64\n",
        "  data_new = data.astype(np.float64)\n",
        "  # chuyển labels thành int8\n",
        "  label_new = label.astype(np.int8)\n",
        "\n",
        "  # sử dụng kĩ thuật scaler\n",
        "\n",
        "  # load model scaler\n",
        "  scaler = loadModel('scaler.pkl')\n",
        "\n",
        "  # Apply\n",
        "  data_new = scaler.transform(data_new)\n",
        "\n",
        "  # sử dụng PCA\n",
        "\n",
        "  # load model PCA\n",
        "  pca = loadModel('pca.pkl')\n",
        "\n",
        "  # Apply\n",
        "  data_new = pca.transform(data_new)\n",
        "\n",
        "  return data_new, label_new"
      ],
      "execution_count": 51,
      "outputs": []
    },
    {
      "cell_type": "code",
      "metadata": {
        "id": "t5pUw4dY_P1J",
        "colab_type": "code",
        "colab": {}
      },
      "source": [
        "def testLogisticRegression(data, label, model):\n",
        "  '''\n",
        "    Kiểm tra độ chính xác của mô hình hồi quy Logistic\n",
        "    \n",
        "    Input:\n",
        "      data: ndarray\n",
        "        data chứa dữ liệu\n",
        "      label: ndarray\n",
        "        nhãn của dữ liệu\n",
        "      model: sklearn.linear_model.LogisticRegression\n",
        "        model của hồi quy Logistoc\n",
        "    Output: \n",
        "      out: phần trăm độ chính xác của mô hình\n",
        "  '''\n",
        "\n",
        "  # Predict for One Observation (image)\n",
        "  sum = 0\n",
        "  for i in range(data.shape[0]):\n",
        "    if model.predict(data[i].reshape(1,-1))==label[i]:\n",
        "      sum += 1\n",
        "\n",
        "  print('Accuracy of the model on the %d test images: %d %%' % (data.shape[0], 100 * sum / data.shape[0]))  "
      ],
      "execution_count": 52,
      "outputs": []
    },
    {
      "cell_type": "code",
      "metadata": {
        "id": "nS-GOZQ5PjSU",
        "colab_type": "code",
        "colab": {
          "base_uri": "https://localhost:8080/",
          "height": 35
        },
        "outputId": "e3a04e61-94e2-4f24-f034-ea66d8d3f301"
      },
      "source": [
        "# muont đên drive\n",
        "from google.colab import drive\n",
        "drive.mount('/content/drive')"
      ],
      "execution_count": 53,
      "outputs": [
        {
          "output_type": "stream",
          "text": [
            "Drive already mounted at /content/drive; to attempt to forcibly remount, call drive.mount(\"/content/drive\", force_remount=True).\n"
          ],
          "name": "stdout"
        }
      ]
    },
    {
      "cell_type": "code",
      "metadata": {
        "id": "Y1cARbAxtj9S",
        "colab_type": "code",
        "colab": {
          "base_uri": "https://localhost:8080/",
          "height": 35
        },
        "outputId": "b6daf56e-f6b5-462e-a95e-230c28f98fa1"
      },
      "source": [
        "# di chuyển đến thư mục chứa data\n",
        "%cd /content/drive/My Drive/colab/"
      ],
      "execution_count": 54,
      "outputs": [
        {
          "output_type": "stream",
          "text": [
            "/content/drive/My Drive/colab\n"
          ],
          "name": "stdout"
        }
      ]
    },
    {
      "cell_type": "code",
      "metadata": {
        "id": "ItoBjTLTs3tr",
        "colab_type": "code",
        "colab": {}
      },
      "source": [
        "# load dữ liệu\n",
        "data, labels = loadData('train.csv')"
      ],
      "execution_count": 55,
      "outputs": []
    },
    {
      "cell_type": "code",
      "metadata": {
        "id": "yyDiF8uYNtVq",
        "colab_type": "code",
        "colab": {
          "base_uri": "https://localhost:8080/",
          "height": 1000
        },
        "outputId": "21c7896c-f8e4-43cd-c494-98d499efb398"
      },
      "source": [
        "data[0]"
      ],
      "execution_count": 56,
      "outputs": [
        {
          "output_type": "execute_result",
          "data": {
            "text/plain": [
              "array([123, 124, 128, 133, 137, 143, 147, 151, 156, 159, 161, 165, 168,\n",
              "       168, 169, 173, 176, 176, 178, 180, 181, 182, 181, 181, 183, 182,\n",
              "       182, 182, 125, 126, 129, 134, 139, 144, 149, 152, 156, 159, 163,\n",
              "       165, 168, 169, 171, 175, 177, 178, 179, 181, 183, 183, 183, 182,\n",
              "       183, 184, 185, 185, 127, 128, 130, 136, 141, 146, 150, 154, 158,\n",
              "       162, 165, 167, 169, 173, 174, 175, 179, 182, 182, 182, 183, 185,\n",
              "       187, 187, 186, 187, 188, 187, 128, 130, 132, 137, 142, 148, 151,\n",
              "       155, 160, 164, 166, 170, 171, 174, 175, 177, 179, 182, 183, 183,\n",
              "       185, 188, 188, 187, 186, 188, 189, 189, 129, 131, 134, 139, 145,\n",
              "       149, 153, 157, 161, 165, 168, 171, 174, 175, 178, 180, 180, 181,\n",
              "       185, 187, 188, 188, 189, 189, 188, 189, 190, 190, 130, 132, 135,\n",
              "       141, 146, 151, 154, 159, 164, 167, 170, 173, 175, 178, 180, 182,\n",
              "       182, 184, 187, 188, 189, 190, 190, 191, 190, 191, 192, 192, 131,\n",
              "       133, 136, 142, 148, 153, 157, 160, 165, 168, 170, 175, 178, 178,\n",
              "       180, 182, 185, 187, 187, 189, 190, 191, 191, 192, 192, 192, 194,\n",
              "       194, 133, 135, 138, 144, 150, 155, 159, 162, 168, 166, 173, 173,\n",
              "       174, 183, 180, 183, 190, 186, 189, 190, 190, 192, 193, 193, 195,\n",
              "       195, 196, 195, 134, 136, 139, 145, 151, 157, 161, 165, 160, 182,\n",
              "       215, 191, 208, 218, 180, 158, 175, 196, 191, 190, 193, 194, 196,\n",
              "       196, 196, 196, 196, 196, 135, 136, 140, 147, 153, 158, 161, 166,\n",
              "       195, 221, 230, 227, 233, 216, 183, 152, 121, 146, 192, 197, 193,\n",
              "       195, 197, 195, 196, 197, 198, 198, 137, 138, 142, 148, 154, 160,\n",
              "       153, 191, 236, 234, 233, 230, 219, 199, 170, 135, 118,  93, 114,\n",
              "       169, 201, 198, 197, 198, 199, 200, 200, 200, 137, 139, 143, 149,\n",
              "       156, 156, 192, 232, 232, 235, 232, 217, 194, 177, 143, 120, 121,\n",
              "       103,  96,  95, 134, 196, 201, 198, 201, 202, 202, 202, 138, 141,\n",
              "       144, 151, 154, 165, 231, 232, 232, 234, 220, 194, 163, 141, 113,\n",
              "       117, 113, 105, 109, 100,  88, 114, 197, 202, 202, 203, 203, 203,\n",
              "       139, 141, 145, 152, 152, 179, 232, 229, 234, 215, 197, 168, 129,\n",
              "       107, 108, 101, 113, 111, 116, 104, 100,  86, 117, 205, 201, 202,\n",
              "       204, 204, 139, 141, 146, 154, 152, 187, 236, 234, 219, 181, 165,\n",
              "       131, 110, 102,  75,  70, 126, 113, 117, 109, 100,  98,  81, 145,\n",
              "       226, 206, 204, 205, 141, 142, 147, 156, 154, 185, 236, 235, 218,\n",
              "       179, 129,  98,  80,  47,  21,  68, 119, 110, 117, 107, 101,  96,\n",
              "       101,  88, 120, 190, 210, 208, 143, 144, 149, 158, 157, 181, 236,\n",
              "       235, 225, 172, 105,  89,  33,   0,   3,  81, 116, 118, 120, 103,\n",
              "        98,  99, 103,  52,   0, 120, 225, 205, 142, 144, 149, 156, 160,\n",
              "       170, 235, 236, 211, 146,  92,  69,  19,   8,  16,  67, 108, 137,\n",
              "       117, 104,  96, 103,  66,  20,  13, 164, 220, 206, 143, 145, 151,\n",
              "       156, 163, 160, 221, 236, 190, 123,  89,  76,  65,  39,  63,  63,\n",
              "       115, 154,  98, 104,  99,  80,  14,  19,  23, 202, 215, 209, 143,\n",
              "       145, 151, 158, 165, 159, 212, 227, 156, 103, 103,  98,  91,  78,\n",
              "        71,  83, 174, 144,  92, 104,  75,   8,  12,  13,  46, 220, 210,\n",
              "       211, 144, 146, 152, 158, 165, 163, 221, 215, 129,  96, 121, 113,\n",
              "       101, 102,  63, 148, 197, 136, 101,  73,   7,   4,  29,   0,  73,\n",
              "       229, 209, 215, 145, 147, 153, 160, 166, 167, 229, 201, 113, 110,\n",
              "        75,  83, 101,  88,  95, 217, 195, 133,  92,  28,  15,  27,  17,\n",
              "         0, 100, 233, 210, 216, 145, 148, 154, 160, 164, 170, 236, 169,\n",
              "       111, 143,  53,  52,  63,  50, 128, 236, 210, 159,  65,  24,  22,\n",
              "        16,  13,   0, 135, 232, 212, 215, 145, 148, 154, 162, 159, 195,\n",
              "       216, 106, 151, 143,  68,  81,  82,  58, 106, 235, 212, 175,  58,\n",
              "        22,  19,   9,   9,  10, 189, 224, 214, 216, 144, 147, 154, 161,\n",
              "       162, 185, 149, 128, 194, 127,  83,  93,  91,  82,  79, 197, 211,\n",
              "       175,  77,  10,  12,   8,   9,  31, 213, 218, 215, 216, 144, 147,\n",
              "       154, 161, 166, 167, 174, 183, 190, 118,  91,  98, 102, 104,  89,\n",
              "       100, 168, 131,  41,   5,  12,  13,  12,  35, 211, 218, 215, 216,\n",
              "       146, 148, 155, 162, 167, 171, 177, 180, 184, 111,  99, 103, 108,\n",
              "        98,  73,  36,  32,  23,   7,  13,  13,  17,  14,  37, 211, 219,\n",
              "       217, 218, 146, 148, 155, 163, 168, 173, 176, 182, 179, 104, 101,\n",
              "       101,  97,  67,  32,  16,  10,  11,  16,  17,  17,  17,  13,  38,\n",
              "       212, 219, 218, 219])"
            ]
          },
          "metadata": {
            "tags": []
          },
          "execution_count": 56
        }
      ]
    },
    {
      "cell_type": "code",
      "metadata": {
        "id": "g3z5OJrqt1Tt",
        "colab_type": "code",
        "colab": {}
      },
      "source": [
        "# chuyển đổi data về dữ liệu hình ảnh grayscale\n",
        "images = data2Img(data)"
      ],
      "execution_count": 57,
      "outputs": []
    },
    {
      "cell_type": "code",
      "metadata": {
        "id": "AqiEUuDoNycZ",
        "colab_type": "code",
        "colab": {
          "base_uri": "https://localhost:8080/",
          "height": 1000
        },
        "outputId": "388457fa-4b26-495b-edf0-2ff809bbac2e"
      },
      "source": [
        "images[0]"
      ],
      "execution_count": 58,
      "outputs": [
        {
          "output_type": "execute_result",
          "data": {
            "text/plain": [
              "array([[123, 124, 128, 133, 137, 143, 147, 151, 156, 159, 161, 165, 168,\n",
              "        168, 169, 173, 176, 176, 178, 180, 181, 182, 181, 181, 183, 182,\n",
              "        182, 182],\n",
              "       [125, 126, 129, 134, 139, 144, 149, 152, 156, 159, 163, 165, 168,\n",
              "        169, 171, 175, 177, 178, 179, 181, 183, 183, 183, 182, 183, 184,\n",
              "        185, 185],\n",
              "       [127, 128, 130, 136, 141, 146, 150, 154, 158, 162, 165, 167, 169,\n",
              "        173, 174, 175, 179, 182, 182, 182, 183, 185, 187, 187, 186, 187,\n",
              "        188, 187],\n",
              "       [128, 130, 132, 137, 142, 148, 151, 155, 160, 164, 166, 170, 171,\n",
              "        174, 175, 177, 179, 182, 183, 183, 185, 188, 188, 187, 186, 188,\n",
              "        189, 189],\n",
              "       [129, 131, 134, 139, 145, 149, 153, 157, 161, 165, 168, 171, 174,\n",
              "        175, 178, 180, 180, 181, 185, 187, 188, 188, 189, 189, 188, 189,\n",
              "        190, 190],\n",
              "       [130, 132, 135, 141, 146, 151, 154, 159, 164, 167, 170, 173, 175,\n",
              "        178, 180, 182, 182, 184, 187, 188, 189, 190, 190, 191, 190, 191,\n",
              "        192, 192],\n",
              "       [131, 133, 136, 142, 148, 153, 157, 160, 165, 168, 170, 175, 178,\n",
              "        178, 180, 182, 185, 187, 187, 189, 190, 191, 191, 192, 192, 192,\n",
              "        194, 194],\n",
              "       [133, 135, 138, 144, 150, 155, 159, 162, 168, 166, 173, 173, 174,\n",
              "        183, 180, 183, 190, 186, 189, 190, 190, 192, 193, 193, 195, 195,\n",
              "        196, 195],\n",
              "       [134, 136, 139, 145, 151, 157, 161, 165, 160, 182, 215, 191, 208,\n",
              "        218, 180, 158, 175, 196, 191, 190, 193, 194, 196, 196, 196, 196,\n",
              "        196, 196],\n",
              "       [135, 136, 140, 147, 153, 158, 161, 166, 195, 221, 230, 227, 233,\n",
              "        216, 183, 152, 121, 146, 192, 197, 193, 195, 197, 195, 196, 197,\n",
              "        198, 198],\n",
              "       [137, 138, 142, 148, 154, 160, 153, 191, 236, 234, 233, 230, 219,\n",
              "        199, 170, 135, 118,  93, 114, 169, 201, 198, 197, 198, 199, 200,\n",
              "        200, 200],\n",
              "       [137, 139, 143, 149, 156, 156, 192, 232, 232, 235, 232, 217, 194,\n",
              "        177, 143, 120, 121, 103,  96,  95, 134, 196, 201, 198, 201, 202,\n",
              "        202, 202],\n",
              "       [138, 141, 144, 151, 154, 165, 231, 232, 232, 234, 220, 194, 163,\n",
              "        141, 113, 117, 113, 105, 109, 100,  88, 114, 197, 202, 202, 203,\n",
              "        203, 203],\n",
              "       [139, 141, 145, 152, 152, 179, 232, 229, 234, 215, 197, 168, 129,\n",
              "        107, 108, 101, 113, 111, 116, 104, 100,  86, 117, 205, 201, 202,\n",
              "        204, 204],\n",
              "       [139, 141, 146, 154, 152, 187, 236, 234, 219, 181, 165, 131, 110,\n",
              "        102,  75,  70, 126, 113, 117, 109, 100,  98,  81, 145, 226, 206,\n",
              "        204, 205],\n",
              "       [141, 142, 147, 156, 154, 185, 236, 235, 218, 179, 129,  98,  80,\n",
              "         47,  21,  68, 119, 110, 117, 107, 101,  96, 101,  88, 120, 190,\n",
              "        210, 208],\n",
              "       [143, 144, 149, 158, 157, 181, 236, 235, 225, 172, 105,  89,  33,\n",
              "          0,   3,  81, 116, 118, 120, 103,  98,  99, 103,  52,   0, 120,\n",
              "        225, 205],\n",
              "       [142, 144, 149, 156, 160, 170, 235, 236, 211, 146,  92,  69,  19,\n",
              "          8,  16,  67, 108, 137, 117, 104,  96, 103,  66,  20,  13, 164,\n",
              "        220, 206],\n",
              "       [143, 145, 151, 156, 163, 160, 221, 236, 190, 123,  89,  76,  65,\n",
              "         39,  63,  63, 115, 154,  98, 104,  99,  80,  14,  19,  23, 202,\n",
              "        215, 209],\n",
              "       [143, 145, 151, 158, 165, 159, 212, 227, 156, 103, 103,  98,  91,\n",
              "         78,  71,  83, 174, 144,  92, 104,  75,   8,  12,  13,  46, 220,\n",
              "        210, 211],\n",
              "       [144, 146, 152, 158, 165, 163, 221, 215, 129,  96, 121, 113, 101,\n",
              "        102,  63, 148, 197, 136, 101,  73,   7,   4,  29,   0,  73, 229,\n",
              "        209, 215],\n",
              "       [145, 147, 153, 160, 166, 167, 229, 201, 113, 110,  75,  83, 101,\n",
              "         88,  95, 217, 195, 133,  92,  28,  15,  27,  17,   0, 100, 233,\n",
              "        210, 216],\n",
              "       [145, 148, 154, 160, 164, 170, 236, 169, 111, 143,  53,  52,  63,\n",
              "         50, 128, 236, 210, 159,  65,  24,  22,  16,  13,   0, 135, 232,\n",
              "        212, 215],\n",
              "       [145, 148, 154, 162, 159, 195, 216, 106, 151, 143,  68,  81,  82,\n",
              "         58, 106, 235, 212, 175,  58,  22,  19,   9,   9,  10, 189, 224,\n",
              "        214, 216],\n",
              "       [144, 147, 154, 161, 162, 185, 149, 128, 194, 127,  83,  93,  91,\n",
              "         82,  79, 197, 211, 175,  77,  10,  12,   8,   9,  31, 213, 218,\n",
              "        215, 216],\n",
              "       [144, 147, 154, 161, 166, 167, 174, 183, 190, 118,  91,  98, 102,\n",
              "        104,  89, 100, 168, 131,  41,   5,  12,  13,  12,  35, 211, 218,\n",
              "        215, 216],\n",
              "       [146, 148, 155, 162, 167, 171, 177, 180, 184, 111,  99, 103, 108,\n",
              "         98,  73,  36,  32,  23,   7,  13,  13,  17,  14,  37, 211, 219,\n",
              "        217, 218],\n",
              "       [146, 148, 155, 163, 168, 173, 176, 182, 179, 104, 101, 101,  97,\n",
              "         67,  32,  16,  10,  11,  16,  17,  17,  17,  13,  38, 212, 219,\n",
              "        218, 219]], dtype=uint8)"
            ]
          },
          "metadata": {
            "tags": []
          },
          "execution_count": 58
        }
      ]
    },
    {
      "cell_type": "code",
      "metadata": {
        "id": "yBdxNfvFvPYR",
        "colab_type": "code",
        "colab": {
          "base_uri": "https://localhost:8080/",
          "height": 1000
        },
        "outputId": "b7d985d3-39a0-406c-d80f-260ee305e264"
      },
      "source": [
        "# hiển thị 10 tấm hình có label = 0\n",
        "showImgByLabel(images, labels, 0, 10)"
      ],
      "execution_count": 59,
      "outputs": [
        {
          "output_type": "display_data",
          "data": {
            "image/png": "[encoded data removed]",
            "text/plain": [
              "<Figure size 432x288 with 1 Axes>"
            ]
          },
          "metadata": {
            "tags": [],
            "needs_background": "light"
          }
        },
        {
          "output_type": "display_data",
          "data": {
            "image/png": "[encoded data removed]",
            "text/plain": [
              "<Figure size 432x288 with 1 Axes>"
            ]
          },
          "metadata": {
            "tags": [],
            "needs_background": "light"
          }
        },
        {
          "output_type": "display_data",
          "data": {
            "image/png": "[encoded data removed]",
            "text/plain": [
              "<Figure size 432x288 with 1 Axes>"
            ]
          },
          "metadata": {
            "tags": [],
            "needs_background": "light"
          }
        },
        {
          "output_type": "display_data",
          "data": {
            "image/png": "[encoded data removed]",
            "text/plain": [
              "<Figure size 432x288 with 1 Axes>"
            ]
          },
          "metadata": {
            "tags": [],
            "needs_background": "light"
          }
        },
        {
          "output_type": "display_data",
          "data": {
            "image/png": "[encoded data removed]",
            "text/plain": [
              "<Figure size 432x288 with 1 Axes>"
            ]
          },
          "metadata": {
            "tags": [],
            "needs_background": "light"
          }
        },
        {
          "output_type": "display_data",
          "data": {
            "image/png": "[encoded data removed]",
            "text/plain": [
              "<Figure size 432x288 with 1 Axes>"
            ]
          },
          "metadata": {
            "tags": [],
            "needs_background": "light"
          }
        },
        {
          "output_type": "display_data",
          "data": {
            "image/png": "[encoded data removed]",
            "text/plain": [
              "<Figure size 432x288 with 1 Axes>"
            ]
          },
          "metadata": {
            "tags": [],
            "needs_background": "light"
          }
        },
        {
          "output_type": "display_data",
          "data": {
            "image/png": "[encoded data removed]",
            "text/plain": [
              "<Figure size 432x288 with 1 Axes>"
            ]
          },
          "metadata": {
            "tags": [],
            "needs_background": "light"
          }
        },
        {
          "output_type": "display_data",
          "data": {
            "image/png": "[encoded data removed]",
            "text/plain": [
              "<Figure size 432x288 with 1 Axes>"
            ]
          },
          "metadata": {
            "tags": [],
            "needs_background": "light"
          }
        },
        {
          "output_type": "display_data",
          "data": {
            "image/png": "[encoded data removed]",
            "text/plain": [
              "<Figure size 432x288 with 1 Axes>"
            ]
          },
          "metadata": {
            "tags": [],
            "needs_background": "light"
          }
        }
      ]
    },
    {
      "cell_type": "code",
      "metadata": {
        "id": "Py2s4-5-yRza",
        "colab_type": "code",
        "colab": {}
      },
      "source": [
        "# chia tap du lieu thanh 2 phan: 80% train, 20% test\n",
        "train_img, test_img, train_lbl, test_lbl = train_test_split(data, labels, test_size=0.2, random_state=1234)"
      ],
      "execution_count": 60,
      "outputs": []
    },
    {
      "cell_type": "code",
      "metadata": {
        "id": "vht3g2iFODap",
        "colab_type": "code",
        "colab": {
          "base_uri": "https://localhost:8080/",
          "height": 797
        },
        "outputId": "278f47e6-4aae-4d84-e4b5-efe280bfefc6"
      },
      "source": [
        "print(train_img.shape)\n",
        "print(train_img[0])"
      ],
      "execution_count": 61,
      "outputs": [
        {
          "output_type": "stream",
          "text": [
            "(21600, 784)\n",
            "[ 99 110  35   8  54  63  66  71  79  83  93 112 115 122 126 132 136 139\n",
            " 139 142 144 147 152 154 155 155 158 159 103 107  25  14  56  62  66  72\n",
            "  79  86  95 111 114 124 130 131 135 139 144 140 158 134 115 159 155 158\n",
            " 159 160 107 103  16  21  60  63  68  74  81  85  98 111 121 122 117 135\n",
            " 137 121 123 158 177 112  96 162 156 159 159 160 111  98   9  25  61  64\n",
            "  66  75  77  94 106 113 159 128  92  99 135 114  89 123 164 101 103 166\n",
            " 156 160 160 162 116  88   5  32  61  64  68  65 111 156 110 103 169 141\n",
            " 110  84 133 125 119  63 113 119  79 161 158 160 162 165 122  77   4  40\n",
            "  63  59  82  70 163 162 126 103 157 145 136  88 132 130 117  71  68 128\n",
            "  68 128 168 158 163 165 124  65   6  47  55 101 145 106 126 164 142 108\n",
            " 140 165 143  82 135 135  99  80  44 125  91  93 169 160 165 166 125  55\n",
            "   4  52  53 163 159 137  99 144 158 111 114 175 140  84 108 121  81  67\n",
            "  50 123 115  81 163 165 165 168 126  43   9  51  72 159 153 160 123 100\n",
            " 160 120  94 161 134  84  64  90  75  59  57 127 128  79 143 171 165 167\n",
            " 122  29  13  50  84 133 116 147 118  73 131 116  76 109 101  79  46  65\n",
            "  86  53  72 135 141  90 121 176 166 169 117  22  20  54  84 141  89 121\n",
            "  99  57  92  99  66  65  81  66  31  78 124 112 108 128 138 102  92 175\n",
            " 168 169 109  13  27  56  85 168 123 116 105  66  80  90  75  44  69  79\n",
            " 116 150 152 145 124 110 107 103  72 156 173 170 101   6  32  55  98 165\n",
            " 126 111 109  83  70  99 100  40  79 146 161 159 151 139 122 103  86  92\n",
            "  66 138 176 170  91   5  40  56 103 190 152 141 125  90  60  86  80  97\n",
            " 155 163 160 159 152 133 117  96  83  77  72 159 174 173  77   3  42  63\n",
            "  74 195 168 154 136 118 118 113 125 157 164 165 163 155 143 126 109  94\n",
            "  83  62 119 177 170 173  64   4  48  65  71 191 176 157 137 125 127 136\n",
            " 153 160 164 165 160 146 132 119 103  87  69  87 171 169 172 175  48   6\n",
            "  54  65  65 186 180 158 143 136 134 141 155 163 169 168 150 139 124 108\n",
            "  97  80  66 150 174 171 173 175  35  10  56  68  57 171 182 165 157 150\n",
            " 144 149 162 167 166 156 137 129 118 101  91  67 113 175 169 173 174 175\n",
            "  24  15  59  71  53 140 191 172 170 154 140 141 153 157 148 135 120 116\n",
            " 107  95  77  78 164 168 171 172 174 176  15  19  60  71  61  99 189 169\n",
            " 167 152 138 131 133 137 132 125 105  99  92  81  64 136 170 167 171 172\n",
            " 173 176  10  22  64  67  71  67 162 163 147 143 134 123 123 130 132 122\n",
            " 102  92  89  62 109 169 165 170 171 173 175 177   8  27  65  67  73  66\n",
            " 114 164 137 132 119 111 124 121 126 117  97  91  79  73 162 164 168 171\n",
            " 172 173 176 178   6  31  68  66  71  74  84 152 125 131 124 127 134 117\n",
            " 119 116  98  89  67 100 170 163 167 170 173 175 177 179   8  34  69  67\n",
            "  72  74  82 138 150 145 137 121 127 116 109 113  95  88  58 102 170 162\n",
            " 169 172 174 177 178 181  11  39  69  70  73  70 173 122 134 153 139 114\n",
            " 123 117 111 105  91  86  55  93 175 163 170 173 173 177 179 181  10  44\n",
            "  71  73  63 110 204 173 134 123 124 110 119 124 100  98  93  85  57  51\n",
            " 141 169 170 172 174 178 180 181  11  48  72  71  63 173 189 179 179 155\n",
            " 119  98 106 117  93  98  83  75  75  97  85 148 175 173 175 178 181 182\n",
            "  15  52  73  63  91 197 176 177 168 167 162 141 113 108  96  91  99 111\n",
            " 124 126  89 128 180 173 175 178 180 183]\n"
          ],
          "name": "stdout"
        }
      ]
    },
    {
      "cell_type": "code",
      "metadata": {
        "id": "MxeO6v-aXZnP",
        "colab_type": "code",
        "colab": {}
      },
      "source": [
        "import copy\n",
        "\n",
        "# phục vụ cho việc đào tạo các mô hình scaler, PCA\n",
        "data_copy = copy.copy(train_img)\n",
        "\n",
        "# chuyển data về float64\n",
        "data_copy = data_copy.astype(np.float64)"
      ],
      "execution_count": 62,
      "outputs": []
    },
    {
      "cell_type": "code",
      "metadata": {
        "id": "rGunT_161Iv3",
        "colab_type": "code",
        "colab": {
          "base_uri": "https://localhost:8080/",
          "height": 1000
        },
        "outputId": "1d890709-7eb3-440c-c712-9deec7b3df88"
      },
      "source": [
        "# đào tạo scaler\n",
        "scaler = trainStandardScaler(data_copy)\n",
        "# save model\n",
        "saveModel(scaler, 'scaler.pkl')\n",
        "# Apply transform\n",
        "data_copy = scaler.transform(data_copy)\n",
        "\n",
        "# ví dụ về một vector sau khi scaler\n",
        "print(data_copy.shape)\n",
        "print(data_copy[0])\n",
        "\n",
        "# đào tạo PCA dựa trên data đã scaler\n",
        "pca = trainPCA(data_copy, 400)\n",
        "# save model\n",
        "saveModel(pca, 'pca.pkl')"
      ],
      "execution_count": 63,
      "outputs": [
        {
          "output_type": "stream",
          "text": [
            "(21600, 784)\n",
            "[-1.11836657e+00 -9.59813312e-01 -2.96986991e+00 -3.77080726e+00\n",
            " -2.75033770e+00 -2.63141824e+00 -2.68734807e+00 -2.70516050e+00\n",
            " -2.59663634e+00 -2.63167019e+00 -2.40254401e+00 -1.86973252e+00\n",
            " -1.82218558e+00 -1.64853571e+00 -1.56731616e+00 -1.41760649e+00\n",
            " -1.29365682e+00 -1.20733237e+00 -1.21512039e+00 -1.06994842e+00\n",
            " -9.59952183e-01 -7.95497497e-01 -5.46369161e-01 -4.15226406e-01\n",
            " -3.34985341e-01 -2.47313251e-01 -1.07284826e-01 -6.32399798e-02\n",
            " -1.05845207e+00 -1.07513686e+00 -3.23923136e+00 -3.65398837e+00\n",
            " -2.73596485e+00 -2.69105394e+00 -2.72371582e+00 -2.71560092e+00\n",
            " -2.64295509e+00 -2.55112177e+00 -2.37590794e+00 -1.91956635e+00\n",
            " -1.84436657e+00 -1.57169960e+00 -1.41120586e+00 -1.39325580e+00\n",
            " -1.28098608e+00 -1.18217497e+00 -9.97251852e-01 -1.15379116e+00\n",
            " -4.79391233e-01 -1.28610780e+00 -1.84500507e+00 -3.08374579e-01\n",
            " -3.79637763e-01 -2.06370549e-01 -1.29550669e-01 -8.10198774e-02\n",
            " -1.00212732e+00 -1.21874926e+00 -3.48467405e+00 -3.51139532e+00\n",
            " -2.65535636e+00 -2.68878938e+00 -2.69338761e+00 -2.69384122e+00\n",
            " -2.58610673e+00 -2.54033048e+00 -2.27271312e+00 -1.92883396e+00\n",
            " -1.54318182e+00 -1.54080760e+00 -1.65913274e+00 -1.04886510e+00\n",
            " -1.01451291e+00 -1.55884671e+00 -1.51539668e+00 -4.04754831e-01\n",
            "  2.16328892e-01 -1.96891261e+00 -2.48493002e+00 -2.42260214e-01\n",
            " -3.75500566e-01 -2.20899514e-01 -1.78523542e-01 -1.17837870e-01\n",
            " -9.43557341e-01 -1.37764608e+00 -3.68665894e+00 -3.44151935e+00\n",
            " -2.65962901e+00 -2.68907794e+00 -2.76189544e+00 -2.66528625e+00\n",
            " -2.68847371e+00 -2.24467387e+00 -1.95030001e+00 -1.80941691e+00\n",
            " -3.29595894e-01 -1.21473909e+00 -2.11261661e+00 -1.82704051e+00\n",
            " -8.21369685e-01 -1.38539333e+00 -2.10761805e+00 -1.25505325e+00\n",
            " -1.19767963e-01 -2.14234510e+00 -2.13089984e+00 -1.20754955e-01\n",
            " -4.02701358e-01 -2.34916702e-01 -1.96236093e-01 -1.18962422e-01\n",
            " -8.60832053e-01 -1.65707853e+00 -3.80469012e+00 -3.28667669e+00\n",
            " -2.68959146e+00 -2.72182860e+00 -2.72282506e+00 -2.95594943e+00\n",
            " -1.69814784e+00 -4.21135765e-01 -1.69522759e+00 -1.89785479e+00\n",
            "  1.40568061e-02 -6.87629259e-01 -1.39222159e+00 -1.92759142e+00\n",
            " -6.71419984e-01 -8.07853455e-01 -9.48685202e-01 -2.53005445e+00\n",
            " -1.31632620e+00 -1.31940375e+00 -2.57197705e+00 -2.54951043e-01\n",
            " -3.52526431e-01 -2.67196823e-01 -1.98509772e-01 -9.75130416e-02\n",
            " -7.54572677e-01 -1.94698855e+00 -3.82957429e+00 -3.11032243e+00\n",
            " -2.66595458e+00 -2.87693983e+00 -2.37307102e+00 -2.81694893e+00\n",
            " -2.68813047e-01 -2.60602834e-01 -1.17887986e+00 -1.68445097e+00\n",
            " -2.31611589e-01 -4.59637922e-01 -5.81911709e-01 -1.61012009e+00\n",
            " -5.51576916e-01 -5.52688426e-01 -8.18565539e-01 -1.97110936e+00\n",
            " -2.10794632e+00 -8.37783797e-01 -2.54719060e+00 -1.11817630e+00\n",
            " -5.78260170e-02 -3.75909275e-01 -2.47395381e-01 -1.54859572e-01\n",
            " -7.42131410e-01 -2.26198263e+00 -3.79007944e+00 -2.95297569e+00\n",
            " -2.87902017e+00 -1.79511423e+00 -7.13073844e-01 -1.83883040e+00\n",
            " -1.32229289e+00 -2.19408254e-01 -6.99278924e-01 -1.43267783e+00\n",
            " -5.56015730e-01  9.66987099e-02 -3.26876821e-01 -1.57810438e+00\n",
            " -3.87124653e-01 -3.59358184e-01 -1.13236225e+00 -1.65650727e+00\n",
            " -2.45951452e+00 -7.83750114e-01 -1.80024382e+00 -1.89399742e+00\n",
            " -9.58466898e-03 -3.49100913e-01 -2.61297603e-01 -1.99498576e-01\n",
            " -7.53594243e-01 -2.53287118e+00 -3.85039991e+00 -2.85302364e+00\n",
            " -2.93355770e+00 -1.98891437e-01 -3.70255054e-01 -9.97611332e-01\n",
            " -1.97491525e+00 -6.99920755e-01 -2.40894490e-01 -1.20245530e+00\n",
            " -1.04351853e+00  3.86046899e-01 -2.78222925e-01 -1.40240278e+00\n",
            " -8.86287014e-01 -6.17047403e-01 -1.48310202e+00 -1.89612497e+00\n",
            " -2.22752038e+00 -7.04831697e-01 -1.08771410e+00 -2.05817709e+00\n",
            " -1.36642142e-01 -1.93821637e-01 -2.74352572e-01 -1.97614950e-01\n",
            " -7.60177375e-01 -2.82404826e+00 -3.74542456e+00 -2.87571243e+00\n",
            " -2.45465340e+00 -3.45015386e-01 -5.61521853e-01 -3.94015616e-01\n",
            " -1.29193504e+00 -1.69954276e+00 -1.29433380e-01 -8.91614572e-01\n",
            " -1.35326201e+00  1.67727794e-01 -2.92745232e-01 -1.31850515e+00\n",
            " -1.75945290e+00 -1.21488595e+00 -1.55542340e+00 -2.04637791e+00\n",
            " -2.04653008e+00 -5.64532385e-01 -7.15031896e-01 -2.01063888e+00\n",
            " -6.02053432e-01 -2.81313306e-02 -2.94372535e-01 -2.63322119e-01\n",
            " -8.75070177e-01 -3.14930098e+00 -3.63889975e+00 -2.89754639e+00\n",
            " -2.15971721e+00 -1.06450523e+00 -1.54879394e+00 -7.25827800e-01\n",
            " -1.35650613e+00 -2.20584431e+00 -6.89432204e-01 -8.62493798e-01\n",
            " -1.58559883e+00 -7.83517109e-01 -8.75413896e-01 -1.34555319e+00\n",
            " -2.05849755e+00 -1.67606666e+00 -1.27468036e+00 -2.04084549e+00\n",
            " -1.65886950e+00 -3.93368180e-01 -4.15507446e-01 -1.69853158e+00\n",
            " -1.16582414e+00  8.91453877e-02 -2.85158688e-01 -2.27459017e-01\n",
            " -1.01211867e+00 -3.31222498e+00 -3.48962717e+00 -2.82468429e+00\n",
            " -2.19391744e+00 -8.84857553e-01 -2.26057618e+00 -1.37908260e+00\n",
            " -1.76109515e+00 -2.41141947e+00 -1.39527527e+00 -1.08600588e+00\n",
            " -1.65857156e+00 -1.55111105e+00 -1.17337594e+00 -1.52791210e+00\n",
            " -2.25789022e+00 -1.33743499e+00 -4.47453113e-01 -7.64067106e-01\n",
            " -8.76400738e-01 -5.34539973e-01 -4.64834110e-01 -1.36940660e+00\n",
            " -1.85755451e+00  3.32311273e-02 -2.56177842e-01 -2.62059075e-01\n",
            " -1.21488319e+00 -3.51704483e+00 -3.35464365e+00 -2.80004451e+00\n",
            " -2.21835031e+00 -2.24289120e-01 -1.39348268e+00 -1.48315071e+00\n",
            " -1.55605395e+00 -2.10281071e+00 -1.50686296e+00 -1.11863233e+00\n",
            " -1.31178732e+00 -1.79938176e+00 -1.28030869e+00 -1.15541172e+00\n",
            " -4.54801457e-01  1.54161898e-01  1.35067194e-01 -9.44977947e-02\n",
            " -5.65635249e-01 -9.09663803e-01 -1.12383879e+00 -1.30984617e+00\n",
            " -2.23099256e+00 -4.66065805e-01 -1.38618003e-01 -2.60707556e-01\n",
            " -1.42434640e+00 -3.72221981e+00 -3.28882196e+00 -2.87416120e+00\n",
            " -1.93693256e+00 -3.29758125e-01 -1.29483619e+00 -1.58172198e+00\n",
            " -1.41596945e+00 -1.63152802e+00 -1.58906824e+00 -8.21208543e-01\n",
            " -7.09625999e-01 -1.78002968e+00 -9.52892925e-01  2.85323264e-01\n",
            "  4.55453043e-01  3.43868083e-01  1.26495787e-01 -1.92109653e-01\n",
            " -5.92645725e-01 -1.06680890e+00 -1.53884399e+00 -1.48463031e+00\n",
            " -2.27233361e+00 -9.22581918e-01 -6.44845540e-02 -2.57503334e-01\n",
            " -1.67078292e+00 -3.75068833e+00 -3.12175256e+00 -2.87945090e+00\n",
            " -1.82106591e+00  2.65081080e-01 -6.55881964e-01 -8.45109419e-01\n",
            " -1.02205527e+00 -1.41866987e+00 -1.70971962e+00 -9.84662522e-01\n",
            " -1.01260375e+00 -5.95251094e-01  5.76466844e-01  6.36032517e-01\n",
            "  4.33241103e-01  3.53866038e-01  1.63041367e-01 -2.77130932e-01\n",
            " -6.45819852e-01 -1.15249412e+00 -1.53180354e+00 -1.70586017e+00\n",
            " -2.02148127e+00 -3.70608021e-01 -1.12833850e-01 -1.69276681e-01\n",
            " -1.99682195e+00 -3.78854363e+00 -3.07746455e+00 -2.70138282e+00\n",
            " -2.52880484e+00  3.52911340e-01 -2.87390071e-01 -5.20613469e-01\n",
            " -7.31192720e-01 -8.20932325e-01 -5.22437313e-01 -4.13440025e-01\n",
            " -3.75379257e-02  6.29870409e-01  7.45373273e-01  6.66903905e-01\n",
            "  5.00925371e-01  2.79058656e-01 -3.85548949e-04 -3.61000073e-01\n",
            " -7.27559313e-01 -1.08897105e+00 -1.42140094e+00 -1.90160809e+00\n",
            " -9.77697908e-01  5.42622741e-02 -2.18035351e-01 -1.76173600e-01\n",
            " -2.29071194e+00 -3.76352335e+00 -2.93146701e+00 -2.62577278e+00\n",
            " -2.59757423e+00  2.28190254e-01 -1.26499743e-01 -4.72839902e-01\n",
            " -7.03490840e-01 -6.81591966e-01 -3.39615049e-01  7.92917021e-02\n",
            "  5.60229952e-01  6.95725536e-01  6.84569304e-01  5.91985303e-01\n",
            "  4.15805726e-01  1.07467439e-01 -1.84368601e-01 -4.49754589e-01\n",
            " -7.77081088e-01 -1.12509270e+00 -1.57929016e+00 -1.34961314e+00\n",
            "  9.70495208e-02 -1.13684371e-01 -1.59614504e-01 -1.24706221e-01\n",
            " -2.64299046e+00 -3.71559595e+00 -2.77527251e+00 -2.59469346e+00\n",
            " -2.73778197e+00  8.34165627e-02 -5.10205535e-02 -4.79346079e-01\n",
            " -6.03233861e-01 -4.67797507e-01 -1.94216321e-01  1.73497355e-01\n",
            "  5.67589325e-01  7.09037306e-01  7.04939578e-01  5.89325221e-01\n",
            "  1.97480668e-01 -3.69234704e-02 -3.18084386e-01 -6.34744169e-01\n",
            " -8.39472763e-01 -1.19992447e+00 -1.54613140e+00 -1.33907961e-01\n",
            "  1.42998465e-01 -6.57046767e-02 -1.16639374e-01 -9.63372848e-02\n",
            " -2.92839864e+00 -3.60958528e+00 -2.70676705e+00 -2.50964271e+00\n",
            " -2.92334901e+00 -2.87868990e-01 -9.16019540e-03 -3.25710222e-01\n",
            " -3.13466766e-01 -1.93702939e-01 -2.16578491e-02  2.95150302e-01\n",
            "  6.39013338e-01  6.89976386e-01  6.06322044e-01  3.39395854e-01\n",
            " -6.43024553e-02 -2.28476220e-01 -4.07672125e-01 -7.43218902e-01\n",
            " -9.09995825e-01 -1.39576069e+00 -6.43979298e-01  3.08151213e-01\n",
            "  9.39839574e-03 -2.35466777e-02 -7.47648779e-02 -8.51186299e-02\n",
            " -3.12798723e+00 -3.46097030e+00 -2.59874239e+00 -2.40898208e+00\n",
            " -2.97637491e+00 -9.97790552e-01  2.04329083e-01 -1.61074102e-01\n",
            " -4.69075319e-02 -1.32461786e-01 -1.64358698e-01  6.75609609e-02\n",
            "  3.86055513e-01  4.31072508e-01  2.08786595e-01 -6.62095180e-02\n",
            " -3.88375074e-01 -4.63675652e-01 -6.03672956e-01 -8.03098595e-01\n",
            " -1.12217526e+00 -1.15088159e+00  2.36468673e-01  1.09385729e-01\n",
            "  1.37074460e-02 -6.95213502e-02 -8.97038228e-02 -5.89707788e-02\n",
            " -3.22407650e+00 -3.28718917e+00 -2.51604425e+00 -2.36565856e+00\n",
            " -2.70156567e+00 -1.89688147e+00  1.68985319e-01 -2.35656184e-01\n",
            " -1.24217164e-01 -2.14050041e-01 -2.64614664e-01 -2.16019526e-01\n",
            " -9.39853584e-02 -2.83731626e-02 -1.55865040e-01 -3.12261311e-01\n",
            " -6.86893169e-01 -7.82035482e-01 -8.81546657e-01 -1.02026925e+00\n",
            " -1.34191362e+00 -1.25852025e-01  2.66670042e-01  3.07444307e-02\n",
            " -2.25478393e-02 -1.08908479e-01 -1.22111970e-01 -4.51939545e-02\n",
            " -3.23188566e+00 -3.10234173e+00 -2.32842110e+00 -2.37080423e+00\n",
            " -2.39396749e+00 -2.56700451e+00 -4.07354220e-01 -3.48244565e-01\n",
            " -5.54065660e-01 -4.31906860e-01 -4.05819392e-01 -4.60863332e-01\n",
            " -3.67006167e-01 -2.10683013e-01 -2.01652838e-01 -4.14212776e-01\n",
            " -7.57887942e-01 -8.92085421e-01 -8.76742498e-01 -1.35700527e+00\n",
            " -5.17981611e-01  3.65728349e-01  9.16413800e-02  2.66436079e-02\n",
            " -5.99733897e-02 -8.79753283e-02 -5.62947951e-02  1.05078453e-02\n",
            " -3.17606049e+00 -2.87247004e+00 -2.16819673e+00 -2.22702096e+00\n",
            " -2.20840090e+00 -2.43571941e+00 -1.41177014e+00 -2.77855832e-01\n",
            " -7.32980864e-01 -6.49819702e-01 -7.41336494e-01 -7.59532486e-01\n",
            " -3.97130463e-01 -4.18158564e-01 -3.45984509e-01 -5.18910161e-01\n",
            " -8.31454094e-01 -8.51253155e-01 -1.05100629e+00 -1.15919380e+00\n",
            "  3.45541523e-01  1.98170813e-01  8.43637728e-02  2.16894069e-02\n",
            " -3.71535877e-02 -5.58196041e-02  5.62831214e-03  6.94732035e-02\n",
            " -3.11370958e+00 -2.68818464e+00 -1.96621383e+00 -2.07748778e+00\n",
            " -2.05735047e+00 -2.07363235e+00 -1.91053363e+00 -4.56548813e-01\n",
            " -9.11174539e-01 -6.44670948e-01 -6.37978158e-01 -4.60499604e-01\n",
            " -2.16676438e-01 -5.13798099e-01 -4.74145619e-01 -4.99051849e-01\n",
            " -7.68297975e-01 -8.67584562e-01 -1.27033937e+00 -6.80148564e-01\n",
            "  3.93867259e-01  9.85486506e-02  3.18002805e-02 -3.78248595e-03\n",
            " -1.01643548e-02  1.49144051e-02  6.51860353e-02  1.18114332e-01\n",
            " -2.99324602e+00 -2.52025829e+00 -1.84015051e+00 -1.95001849e+00\n",
            " -1.87080472e+00 -1.88370523e+00 -1.78395028e+00 -6.37140672e-01\n",
            " -3.30981962e-01 -3.29387049e-01 -3.70379632e-01 -5.74942336e-01\n",
            " -3.54168246e-01 -5.20999160e-01 -6.40924500e-01 -5.04500359e-01\n",
            " -7.79856475e-01 -8.70416257e-01 -1.39945782e+00 -6.67503059e-01\n",
            "  3.19923440e-01  3.21561413e-02  3.63184377e-02  1.90758580e-02\n",
            "  2.57031852e-02  8.37858458e-02  1.16368203e-01  1.81024776e-01\n",
            " -2.78329666e+00 -2.28713930e+00 -1.71264333e+00 -1.73391278e+00\n",
            " -1.68450223e+00 -1.78699113e+00  1.67377475e-01 -8.09155991e-01\n",
            " -5.35675730e-01 -1.05036004e-01 -2.83586706e-01 -6.63062793e-01\n",
            " -3.97809539e-01 -4.64976621e-01 -5.41708096e-01 -5.98745302e-01\n",
            " -8.10453075e-01 -8.60750219e-01 -1.40963312e+00 -8.28898502e-01\n",
            "  3.45288561e-01  2.85716314e-02  6.02011259e-02  5.36162244e-02\n",
            "  4.30414121e-02  1.21091140e-01  1.67774971e-01  2.13802760e-01\n",
            " -2.65567007e+00 -2.03713957e+00 -1.53835987e+00 -1.55134318e+00\n",
            " -1.76425711e+00 -9.16223772e-01  8.35840280e-01  2.75806414e-01\n",
            " -4.22079743e-01 -5.95714855e-01 -4.92963351e-01 -6.74672210e-01\n",
            " -4.21344498e-01 -2.67846771e-01 -6.94794869e-01 -6.69649605e-01\n",
            " -7.22253483e-01 -8.33701095e-01 -1.32038768e+00 -1.52186117e+00\n",
            " -2.28198905e-01  1.27055654e-01  7.94428811e-02  7.03334111e-02\n",
            "  9.76095707e-02  1.69213948e-01  2.13022590e-01  2.42829195e-01\n",
            " -2.51708012e+00 -1.86750946e+00 -1.41679615e+00 -1.48083467e+00\n",
            " -1.66872227e+00  3.53090988e-01  6.56519964e-01  4.78010259e-01\n",
            "  4.91145569e-01  1.06923580e-01 -4.98597651e-01 -8.21288654e-01\n",
            " -6.19567650e-01 -3.72722738e-01 -7.63152772e-01 -5.97324583e-01\n",
            " -8.50575359e-01 -9.92221619e-01 -1.02408983e+00 -8.12119732e-01\n",
            " -1.10849700e+00 -2.01350588e-01  1.77750986e-01  1.21037839e-01\n",
            "  1.42856829e-01  2.04738588e-01  2.66132970e-01  2.95933185e-01\n",
            " -2.35758499e+00 -1.71573065e+00 -1.32853371e+00 -1.54622053e+00\n",
            " -1.06227796e+00  8.80660692e-01  5.00100368e-01  5.22395501e-01\n",
            "  3.78688214e-01  4.05060585e-01  3.41597403e-01  2.52642109e-02\n",
            " -4.38975764e-01 -4.93250458e-01 -6.34340819e-01 -6.74153160e-01\n",
            " -5.62422457e-01 -3.96604432e-01 -2.75102321e-01 -3.32696761e-01\n",
            " -1.00595922e+00 -4.93129412e-01  2.81031831e-01  1.60040111e-01\n",
            "  1.87837861e-01  2.51772779e-01  2.95169763e-01  3.59013403e-01]\n"
          ],
          "name": "stdout"
        }
      ]
    },
    {
      "cell_type": "code",
      "metadata": {
        "id": "62xZp8T589Ji",
        "colab_type": "code",
        "colab": {
          "base_uri": "https://localhost:8080/",
          "height": 1000
        },
        "outputId": "9fa42676-16e2-4e81-bd92-9cf8f2ed714b"
      },
      "source": [
        "print(len(scaler.var_))\n",
        "print(scaler.var_)"
      ],
      "execution_count": 64,
      "outputs": [
        {
          "output_type": "stream",
          "text": [
            "784\n",
            "[1715.9173185  1600.88107371 1529.63865062 1488.56013837 1379.36720909\n",
            " 1312.29840044 1232.99968929 1137.54968299 1068.18583616  981.42019526\n",
            "  937.99347029  888.11906085  859.23189316  820.56209807  783.68108711\n",
            "  732.51877683  716.24635583  692.61132304  681.04042267  703.18718148\n",
            "  725.99484671  777.14851659  861.80954793  953.74425185 1015.77416474\n",
            " 1182.52766418 1296.94219773 1330.67928575 1732.33382523 1613.61799732\n",
            " 1557.87393508 1496.49484797 1389.96087217 1330.22764691 1248.15508702\n",
            " 1152.69341373 1075.29444437 1005.71844784  955.09301414  919.55245301\n",
            "  901.81644628  871.68091542  836.00251757  808.11815926  784.94062237\n",
            "  749.97810177  736.76868025  733.27694992  744.48124066  802.64116821\n",
            "  875.95584614  964.09631944 1043.54467077 1190.01267322 1280.4903456\n",
            " 1334.83451851 1750.88114444 1626.02909444 1583.92622083 1505.75699503\n",
            " 1414.89142968 1357.61187377 1269.63696526 1169.654825   1116.70251848\n",
            " 1073.30537486 1000.29352778  958.87281017 1012.48302593  986.82941872\n",
            " 1008.52637297 1036.50557844  992.70837201  956.20789437  933.34363511\n",
            "  874.84651728  844.80975689  892.85240646  902.59230645 1014.84450532\n",
            " 1117.09959246 1213.3349151  1300.29979745 1378.23096054 1772.33438223\n",
            " 1649.54311412 1600.59848174 1519.11409156 1434.23017345 1378.16259799\n",
            " 1303.00113544 1213.38607098 1172.67226851 1134.23916795 1100.09560733\n",
            " 1048.82621202 1125.82350646 1170.93060483 1262.64346951 1313.3723448\n",
            " 1309.41435177 1296.60194482 1258.9893502  1157.03843702 1063.79840422\n",
            " 1030.19718971  998.71792283 1096.09323621 1145.89936214 1223.78594419\n",
            " 1331.84469581 1374.19531759 1789.69937452 1667.77351643 1622.87148299\n",
            " 1543.03983741 1452.66581155 1390.98945431 1331.69364813 1251.58348374\n",
            " 1241.54832955 1223.09510725 1286.07747469 1264.80738765 1402.29735918\n",
            " 1464.6426323  1524.0479897  1621.09902209 1661.00159156 1699.36271643\n",
            " 1651.00024815 1480.37061239 1427.2742935  1271.26360918 1204.32581625\n",
            " 1205.45262174 1188.3958539  1262.54505802 1285.15515733 1323.20981584\n",
            " 1814.18192582 1700.92147805 1655.1634151  1559.06128803 1469.89929204\n",
            " 1413.99180785 1346.77135287 1303.16479073 1290.59884334 1321.15562242\n",
            " 1446.6318895  1540.86125802 1605.2427332  1748.36105461 1866.36061445\n",
            " 1910.20884396 1963.22688858 1971.35771069 1991.51014334 1832.64794751\n",
            " 1782.96821526 1597.99268415 1450.61302671 1307.00574999 1259.28442178\n",
            " 1233.76244855 1212.53620128 1283.01437029 1829.07682908 1721.72473289\n",
            " 1681.6267284  1579.75225871 1508.8445358  1425.89962201 1351.0396574\n",
            " 1344.04627263 1316.62667776 1433.91002315 1609.67538066 1725.7669398\n",
            " 1834.41802947 2026.15727983 2131.96839492 2162.6700823  2246.44591419\n",
            " 2184.44367591 2161.27806687 1984.81502752 2008.22075375 1810.21570562\n",
            " 1608.14986649 1496.85136795 1354.00477983 1216.51799635 1125.98122659\n",
            " 1194.68412798 1838.41508611 1733.51800463 1706.15309593 1597.9957034\n",
            " 1549.44894057 1458.63003081 1406.49764984 1400.88751387 1441.48113165\n",
            " 1561.30891927 1822.35778544 1962.37255221 2029.21865154 2268.02131204\n",
            " 2292.47249288 2321.80946759 2329.03383282 2213.4346823  2192.86405501\n",
            " 2067.79194953 2126.918325   2076.17416109 1824.75342822 1684.6344447\n",
            " 1540.71654535 1333.43633331 1178.02625766 1133.08810252 1856.36219211\n",
            " 1766.06402001 1723.81330143 1640.9630787  1587.46718449 1484.36066666\n",
            " 1439.66004112 1458.10764691 1520.94667899 1691.12259945 1984.028424\n",
            " 2122.60106155 2204.71669367 2417.74334902 2455.52588392 2368.87983453\n",
            " 2305.26632029 2277.53982425 2235.17596357 2042.5886947  2147.21947427\n",
            " 2204.69846702 2015.82665461 1835.30777839 1711.96601919 1407.68488682\n",
            " 1206.08708239 1135.47153575 1887.62269526 1807.52562963 1763.3835702\n",
            " 1683.76024964 1635.80171757 1470.32372283 1462.31814184 1502.37889813\n",
            " 1601.97383073 1851.42813081 2066.6525038  2217.52678227 2356.30085689\n",
            " 2474.47763412 2460.0055956  2376.92310137 2310.49850102 2290.77398148\n",
            " 2287.97307558 2207.7328284  2234.19211848 2300.58767797 2116.95139257\n",
            " 1922.40378079 1667.9841821  1464.73480616 1206.87305118 1181.16042242\n",
            " 1916.95275918 1843.30836776 1777.57644161 1693.59851893 1642.77730862\n",
            " 1496.69749952 1503.09887324 1558.42783326 1717.15744835 2023.24185802\n",
            " 2235.07814043 2336.99249997 2401.24855725 2506.99828007 2469.40944196\n",
            " 2346.99567322 2374.99861674 2367.24629215 2391.99048563 2311.31303395\n",
            " 2296.5093504  2361.78589094 2185.77217733 2042.89619722 1726.36311085\n",
            " 1514.17237834 1207.59906872 1175.04429779 1938.5059071  1874.82081893\n",
            " 1776.49945556 1700.87008611 1628.73998957 1526.02493225 1553.26727723\n",
            " 1627.80049012 1808.37615225 2132.457274   2395.49090044 2507.27723937\n",
            " 2544.86109948 2640.56470781 2517.71949455 2393.81638964 2538.87695966\n",
            " 2531.21341229 2485.57096579 2351.114844   2345.24889676 2386.66133513\n",
            " 2204.68008825 2129.8973609  1876.60530468 1569.1589327  1298.71007201\n",
            " 1198.06461451 1937.6255125  1861.84548312 1758.74873837 1687.51914321\n",
            " 1615.76466659 1558.60192387 1647.94907818 1710.18850411 1868.15744276\n",
            " 2242.96687978 2507.25473696 2575.79823024 2603.0433347  2654.13087267\n",
            " 2634.73864058 2498.13233634 2598.68766543 2638.31984489 2529.7902222\n",
            " 2417.91917281 2436.45086913 2369.74764094 2263.49840161 2268.05092747\n",
            " 2009.6096935  1596.5984097  1393.27690483 1286.04401728 1952.98391151\n",
            " 1885.38583547 1771.89443704 1700.38912029 1646.43050993 1623.78344505\n",
            " 1715.24085514 1754.85799375 1949.87936949 2330.97718199 2523.06629969\n",
            " 2624.68133024 2587.61314622 2632.90441049 2610.28225432 2618.91323079\n",
            " 2679.15860645 2656.48864449 2558.64494546 2514.76595624 2537.34031973\n",
            " 2479.6244339  2367.25942978 2429.95381838 2175.12137839 1751.52887297\n",
            " 1484.60055416 1430.618206   1977.04414506 1917.11993951 1796.37595593\n",
            " 1738.50478052 1700.75890627 1662.26757188 1696.85370863 1827.04188881\n",
            " 2077.29568449 2352.58532215 2475.38754307 2487.4046148  2530.684902\n",
            " 2549.84437229 2542.13781276 2687.82000925 2769.10980554 2738.91835062\n",
            " 2678.47742592 2659.2491323  2600.00484937 2662.50484156 2577.42504156\n",
            " 2614.24655838 2293.85948488 1876.70659674 1590.06900461 1490.33532273\n",
            " 2010.21545602 1943.3370941  1827.92083264 1803.85528523 1744.73648086\n",
            " 1695.5001234  1719.71847839 1872.4513218  2141.1549435  2299.53191332\n",
            " 2433.18874464 2474.48953702 2474.54363855 2589.0051111  2671.45504439\n",
            " 2880.06609616 2891.95440316 2915.20815139 2809.02198826 2698.20767119\n",
            " 2701.62448312 2844.67360322 2784.47036265 2771.42995349 2456.18774717\n",
            " 2026.9719804  1772.16468285 1638.20575741 2044.09403785 1964.62513038\n",
            " 1871.08983148 1869.91489701 1774.69112448 1692.54710878 1736.67842448\n",
            " 1877.61095871 2124.72779822 2280.67357767 2337.12882708 2365.369774\n",
            " 2505.6355822  2652.25605719 2885.35120653 3020.0991821  3019.53460386\n",
            " 3084.16818488 2855.05461451 2721.70562066 2772.17346265 2878.63518858\n",
            " 2966.04480391 2878.99392315 2580.95725874 2217.65937338 1939.7720288\n",
            " 1826.21304779 2061.42150041 1993.96563361 1917.54685596 1917.18333199\n",
            " 1794.73296677 1694.25611025 1785.23575789 1910.13237311 2135.38506375\n",
            " 2297.87310079 2327.89534028 2399.69234567 2548.47401738 2853.42806017\n",
            " 2998.84647098 3150.52716202 3120.11444211 3044.87568587 2836.81467407\n",
            " 2638.07859691 2751.78989969 2882.41573781 3136.35139489 2943.96577587\n",
            " 2661.50477081 2336.73237098 2113.81395254 2006.57238991 2106.99797304\n",
            " 2035.61043848 1976.68230367 1967.36492579 1839.04224535 1786.51479485\n",
            " 1838.67046789 1997.98035182 2145.49224717 2370.93424535 2386.990625\n",
            " 2411.65440452 2558.63413323 2856.80109797 3037.39189876 3233.85951618\n",
            " 3095.9490823  2951.81008024 2651.6039156  2604.15609546 2778.52270987\n",
            " 3025.1357037  3277.62615141 3036.87203956 2809.25627776 2432.20434807\n",
            " 2262.13139503 2157.99914784 2203.14783278 2115.55538052 2048.96712315\n",
            " 2012.81228374 1929.93638217 1867.87242099 1871.05818594 2015.23747294\n",
            " 2166.17825375 2356.85055863 2428.42270926 2371.83069238 2602.49393412\n",
            " 2775.61543608 2981.2250786  3069.18668477 3051.67400128 2782.92333102\n",
            " 2544.15858332 2604.48816289 2814.98345472 3218.33281838 3382.10418826\n",
            " 3204.76847386 2877.58711275 2481.70537016 2315.92831943 2291.22430957\n",
            " 2288.00549506 2221.41033988 2156.01709566 2081.47746036 1986.04839698\n",
            " 1911.35349622 1919.93685099 2020.30395962 2157.48484032 2312.68254043\n",
            " 2395.45521749 2374.93603667 2634.95002877 2712.20690843 2903.04979676\n",
            " 2954.81882191 2892.88625493 2684.19422283 2589.90283812 2675.35312104\n",
            " 3027.43722201 3426.630293   3341.80775368 3245.90856622 2881.755759\n",
            " 2592.22475116 2503.50635957 2540.04421742 2372.75416255 2343.15901054\n",
            " 2303.71841649 2221.55404928 2126.88751666 2061.17401067 2013.37186594\n",
            " 2096.27854907 2242.15105276 2378.0134946  2418.16344629 2432.37178117\n",
            " 2536.24717592 2619.3326284  2719.45795833 2828.17052044 2826.68330247\n",
            " 2719.5056288  2568.35089635 2868.29854072 3320.61693579 3492.17675301\n",
            " 3443.14470823 3218.17056557 2935.82376353 2778.90118981 2718.80243887\n",
            " 2782.22729465 2482.30315739 2443.57095514 2486.66273251 2436.75146363\n",
            " 2366.24195267 2274.83021708 2226.51516653 2261.36747921 2402.84204851\n",
            " 2454.74404793 2470.48449166 2428.21239881 2480.24193618 2497.73932484\n",
            " 2611.14046447 2762.63582562 2758.58581198 2704.92143825 2794.11408291\n",
            " 3187.73422077 3456.29376543 3596.6154898  3477.51740733 3283.98125616\n",
            " 3096.94226439 3020.79703696 2972.03072702 2976.35443894 2547.98730398\n",
            " 2561.78512932 2630.33763867 2546.57736389 2580.14570988 2533.24572562\n",
            " 2434.44505177 2454.92946553 2518.13940924 2538.4613321  2517.29182853\n",
            " 2469.06481684 2476.69901572 2461.82931008 2558.78242901 2718.86274156\n",
            " 2748.26314038 2831.69615548 3061.60209136 3419.03027006 3673.57052191\n",
            " 3657.00253084 3521.09344629 3302.28361522 3218.73010802 3251.63777263\n",
            " 3229.77428519 3178.69226764 2688.65722032 2688.55153044 2764.77014581\n",
            " 2750.83034737 2803.0509023  2747.74498508 2731.06793131 2653.45751007\n",
            " 2693.42232371 2684.71584443 2661.99733007 2578.19643424 2509.35036572\n",
            " 2420.01344784 2568.96180581 2751.6958225  2868.49051355 3120.57060957\n",
            " 3332.99409516 3689.33693673 3818.82911686 3752.10474535 3565.96746528\n",
            " 3431.5041142  3389.96746378 3442.77854861 3453.3966663  3412.27108734\n",
            " 2821.40918776 2851.76567814 2911.85433794 2866.03778394 2866.35504936\n",
            " 2847.78287063 2888.26131478 2886.65860493 2927.36184074 2838.6735179\n",
            " 2827.65208199 2700.30578044 2597.36893081 2500.12940946 2637.56383143\n",
            " 2879.62269534 3107.85063001 3374.14845416 3714.70680761 3879.69005346\n",
            " 3912.88379608 3835.152352   3671.26152095 3657.00894753 3639.32177452\n",
            " 3663.00529462 3712.02862054 3673.79964537 2920.16254396 2882.46119599\n",
            " 3001.9432276  2950.4651026  2915.74935658 2995.70491149 2963.21108084\n",
            " 3039.01319252 3162.74910596 3075.01410957 2989.75310415 2892.95343415\n",
            " 2748.46668894 2710.5122537  2890.31234537 3141.33380177 3323.84595918\n",
            " 3652.67610458 4011.88481289 4017.05756943 4025.79486109 3915.55919408\n",
            " 3822.93541564 3867.28149122 3851.20193362 3826.55362361 3822.45343359\n",
            " 3885.49437284 2962.16023086 2882.60828796 2989.69196759 2985.72402839\n",
            " 2959.54448696 3053.31498264 3135.50850678 3272.8327358  3368.90015184\n",
            " 3302.92219945 3216.685786   3149.85048455 2985.11779896 3061.11358976\n",
            " 3195.90835123 3388.2758804  3505.76242538 3916.6754919  4082.21584593\n",
            " 4296.99059936 4134.84135748 4052.72042464 4054.55680645 4015.55072373\n",
            " 4028.23156357 3993.49496265 4034.68358683 4144.45381017]\n"
          ],
          "name": "stdout"
        }
      ]
    },
    {
      "cell_type": "code",
      "metadata": {
        "id": "69Q_wvWrO3aF",
        "colab_type": "code",
        "colab": {
          "base_uri": "https://localhost:8080/",
          "height": 1000
        },
        "outputId": "6f46bd26-5485-4e7b-f900-ad0215353161"
      },
      "source": [
        "print(len(scaler.mean_))\n",
        "print(scaler.mean_)"
      ],
      "execution_count": 65,
      "outputs": [
        {
          "output_type": "stream",
          "text": [
            "784\n",
            "[145.32680556 148.40310185 151.15337963 153.48476852 156.14708333\n",
            " 158.32486111 160.3637963  162.23851852 163.86615741 165.44398148\n",
            " 166.58194444 167.72050926 168.41310185 169.22305556 169.87592593\n",
            " 170.36763889 170.62185185 170.77398148 170.71069444 170.3725463\n",
            " 169.86523148 169.17638889 168.03953704 166.82333333 165.67638889\n",
            " 163.50458333 161.86365741 161.30689815 147.05416667 150.18810185\n",
            " 152.85217593 155.35291667 158.00273148 160.14888889 162.22680556\n",
            " 164.19828704 165.66694444 166.90388889 168.42643519 169.20916667\n",
            " 169.38680556 170.40324074 170.80319444 170.60666667 170.88912037\n",
            " 171.37472222 171.06888889 171.24361111 171.08027778 170.43662037\n",
            " 169.60578704 168.575      167.2637963  165.11907407 163.63583333\n",
            " 162.96009259 148.9325463  152.14490741 154.6850463  157.25648148\n",
            " 159.88134259 162.07055556 163.97069444 166.1299537  167.42018519\n",
            " 168.22462963 169.8800463  170.72763889 170.10333333 170.40268519\n",
            " 169.68958333 168.76800926 168.96453704 169.20361111 169.29638889\n",
            " 169.97175926 170.71226852 170.83236111 170.65518519 169.71759259\n",
            " 168.55037037 166.69458333 165.4375     164.37467593 150.72291667\n",
            " 153.9525     156.49393519 159.13601852 161.72342593 163.82828704\n",
            " 165.69643519 167.84175926 169.06490741 169.59717593 170.68694444\n",
            " 171.59902778 170.05902778 169.56699074 167.06907407 165.21282407\n",
            " 164.72194444 163.88574074 163.78300926 165.69097222 167.90634259\n",
            " 169.76217593 170.34175926 169.99787037 169.63189815 168.21800926\n",
            " 167.16152778 166.4099537  152.41736111 155.67240741 158.27148148\n",
            " 161.10574074 163.51069444 165.51324074 167.36236111 169.57476852\n",
            " 170.83527778 170.72828704 170.79412037 170.49555556 168.47361111\n",
            " 167.31601852 164.35101852 161.61037037 160.36398148 158.30240741\n",
            " 157.5474537  160.34532407 162.72986111 166.04305556 168.25634259\n",
            " 169.85180556 170.15268519 169.49412037 169.11638889 168.54712963\n",
            " 154.13967593 157.29814815 159.80125    162.81092593 165.21074074\n",
            " 167.18180556 169.08787037 171.69009259 172.65708333 171.47231481\n",
            " 170.83824074 169.12111111 166.27962963 164.21902778 161.13939815\n",
            " 158.37180556 156.43944444 154.53935185 153.52958333 155.38208333\n",
            " 157.00847222 161.49032407 165.01462963 168.42490741 170.05203704\n",
            " 171.2037963  171.61467593 170.54694444 155.73925926 158.85796296\n",
            " 161.42222222 164.36925926 166.83222222 168.78546296 171.21009259\n",
            " 173.4137963  173.97986111 172.30833333 170.05560185 167.51680556\n",
            " 163.81421296 160.64731481 158.09296296 155.38898148 153.34842593\n",
            " 151.79569444 151.64300926 153.79949074 154.21865741 158.34592593\n",
            " 163.19291667 166.27717593 169.35268519 172.17615741 173.76800926\n",
            " 172.89550926 157.31166667 160.4574537  163.04310185 166.04944444\n",
            " 168.47375    170.59606481 172.88578704 174.33902778 173.9812963\n",
            " 171.65625    168.28356481 164.26717593 161.00722222 156.615\n",
            " 153.32125    151.575      150.77226852 150.03032407 150.45074074\n",
            " 153.2224537  152.7299537  155.11569444 161.46402778 165.47643519\n",
            " 168.36347222 172.07763889 174.41643519 174.65199074 158.75263889\n",
            " 161.67939815 164.50564815 167.49166667 169.80083333 172.2925463\n",
            " 174.30574074 175.04555556 173.38458333 169.89074074 165.76527778\n",
            " 161.07819444 157.54162037 152.75273148 148.50648148 148.17314815\n",
            " 148.47694444 147.9787037  148.53675926 151.48606481 151.83231481\n",
            " 153.50717593 160.10347222 165.13675926 167.91050926 172.05546296\n",
            " 175.22319444 175.87310185 160.01898148 162.8925463  165.80708333\n",
            " 168.89689815 171.34986111 173.81824074 175.2262963  175.13347222\n",
            " 172.2937037  167.91356481 162.34189815 156.61537037 152.96773148\n",
            " 147.97537037 144.41916667 144.60069444 144.94712963 145.2199537\n",
            " 146.97148148 148.89222222 150.41018519 153.86768519 160.11763889\n",
            " 164.4725     168.61337963 172.58824074 175.90643519 176.81731481\n",
            " 161.31361111 164.2062963  167.12726852 170.24523148 172.92208333\n",
            " 175.23263889 176.64212963 175.44194444 171.97731481 165.46675926\n",
            " 157.96388889 151.50018519 147.27421296 142.66402778 139.30875\n",
            " 140.02092593 141.03592593 143.07203704 145.88402778 148.73337963\n",
            " 149.9987963  153.97768519 159.73203704 163.895      169.18050926\n",
            " 173.70689815 176.90231481 177.98310185 162.48944444 165.28523148\n",
            " 168.39333333 171.47833333 174.52740741 176.76171296 177.91925926\n",
            " 175.83921296 171.1712037  163.10472222 153.75152778 146.01296296\n",
            " 141.17523148 136.4637963  133.24189815 135.53041667 138.9162037\n",
            " 142.24393519 145.26615741 149.58203704 151.3924537  154.44023148\n",
            " 159.76875    163.45046296 168.64615741 174.46208333 177.99546296\n",
            " 179.02388889 163.6975463  166.61046296 169.92476852 173.06888889\n",
            " 175.85805556 178.01856481 178.5637963  176.4112037  170.2012963\n",
            " 160.26912037 149.56861111 140.67824074 136.20513889 131.70402778\n",
            " 127.91171296 131.73916667 137.78222222 141.33736111 144.63763889\n",
            " 148.44648148 151.25324074 154.93231481 159.21240741 162.70412037\n",
            " 167.86569444 174.86402778 178.40699074 179.23444444 164.8362037\n",
            " 167.85875    171.40666667 174.73638889 176.89199074 179.31824074\n",
            " 179.16365741 176.4025     170.13134259 158.49365741 145.87944444\n",
            " 136.44587963 131.50972222 127.54342593 125.54777778 130.45083333\n",
            " 137.57518519 140.76134259 143.75287037 146.89740741 149.53125\n",
            " 153.38939815 157.52912037 161.08962963 166.27824074 174.51041667\n",
            " 178.3475463  179.40263889 165.78662037 168.88111111 172.43425926\n",
            " 175.63518519 178.28856481 180.61148148 179.83842593 176.25305556\n",
            " 169.32583333 157.81805556 143.99296296 133.61986111 126.88837963\n",
            " 125.19407407 126.41856481 130.42490741 136.64013889 140.39555556\n",
            " 143.0199537  144.61601852 146.09842593 150.19032407 155.16217593\n",
            " 159.22865741 165.82611111 174.64930556 178.69430556 179.80115741\n",
            " 166.7050463  169.90851852 173.3325     176.52134259 179.50078704\n",
            " 181.60393519 181.24587963 177.46064815 169.55236111 157.68467593\n",
            " 143.75231481 132.05569444 125.13148148 124.59990741 128.61726852\n",
            " 133.23037037 137.63925926 140.1975463  141.77157407 142.36217593\n",
            " 143.39046296 147.00736111 152.33611111 158.04953704 166.19023148\n",
            " 174.11828704 178.71930556 180.0474537  167.49398148 170.69041667\n",
            " 174.0474537  177.20106481 180.33476852 182.56819444 182.1262037\n",
            " 178.77074074 170.80592593 158.34032407 143.38916667 132.56194444\n",
            " 126.58856481 126.48453704 131.13384259 135.61337963 139.14837963\n",
            " 141.05055556 140.99611111 141.11458333 141.19944444 144.37944444\n",
            " 150.20449074 157.185      166.73523148 174.09416667 178.13712963\n",
            " 179.11689815 167.95773148 171.18185185 174.5287963  177.88634259\n",
            " 180.84560185 182.84907407 182.38703704 179.23518519 171.48537037\n",
            " 159.28537037 145.0449537  134.54157407 129.74106481 130.14319444\n",
            " 132.79675926 136.94986111 140.59180556 141.60740741 139.71333333\n",
            " 139.17337963 138.73611111 141.93578704 149.06486111 158.28023148\n",
            " 168.51513889 174.13824074 177.43740741 178.81287037 167.58101852\n",
            " 171.15115741 174.53981481 177.85037037 180.63902778 182.1737963\n",
            " 182.23842593 179.19981481 172.17273148 160.44986111 148.0300463\n",
            " 137.68217593 133.47217593 133.95958333 136.49324074 138.76513889\n",
            " 141.60967593 141.19175926 138.08537037 135.98287037 136.15175926\n",
            " 141.29990741 150.46203704 161.97199074 170.27347222 175.42861111\n",
            " 178.26648148 178.73944444 166.33074074 170.19481481 173.8900463\n",
            " 177.1337963  179.68259259 180.98111111 181.69041667 179.57893519\n",
            " 172.78134259 162.39157407 151.0399537  141.52046296 137.79462963\n",
            " 138.49481481 140.51032407 142.29935185 142.94532407 140.2550463\n",
            " 136.46490741 133.06861111 135.19712963 143.13962963 154.49157407\n",
            " 165.25953704 172.20953704 177.42546296 178.87652778 178.16328704\n",
            " 164.59111111 168.21907407 172.11541667 175.1637037  177.68740741\n",
            " 179.22694444 179.84907407 178.65282407 172.73564815 163.77055556\n",
            " 153.86217593 145.45939815 141.83907407 140.97212963 142.8650463\n",
            " 144.51587963 142.76342593 138.21824074 133.61837963 132.18949074\n",
            " 137.50046296 147.5912037  159.70236111 168.48203704 174.21949074\n",
            " 177.47916667 177.81671296 176.47041667 162.70884259 166.04532407\n",
            " 169.06708333 171.96699074 174.8474537  176.58203704 177.34699074\n",
            " 176.72166667 171.70763889 163.68837963 155.45509259 148.45944444\n",
            " 143.9999537  142.40111111 144.0425463  144.59592593 141.20555556\n",
            " 135.39189815 132.26384259 135.08236111 142.08824074 152.28916667\n",
            " 163.04967593 169.76958333 174.01310185 175.9425463  175.70652778\n",
            " 174.33550926 161.13347222 163.88365741 166.04810185 168.55199074\n",
            " 171.07782407 172.90226852 174.15037037 173.71064815 169.66467593\n",
            " 162.94046296 155.7100463  149.69199074 144.79092593 142.67828704\n",
            " 143.22851852 142.23055556 138.35273148 134.12208333 134.14935185\n",
            " 138.4012037  146.84444444 157.08986111 165.12472222 170.21675926\n",
            " 173.56564815 174.18027778 173.4462963  172.55615741 159.09185185\n",
            " 161.56055556 163.37546296 165.405      167.02777778 168.80944444\n",
            " 170.02027778 169.56856481 166.60902778 161.59555556 155.58291667\n",
            " 149.5687037  144.62569444 141.85032407 141.42078704 139.30601852\n",
            " 135.88310185 134.31805556 135.43444444 141.03055556 150.60944444\n",
            " 160.05541667 166.84490741 170.9037963  172.54175926 172.22226852\n",
            " 171.38666667 170.79384259 155.32023148 157.59101852 159.05263889\n",
            " 160.94087963 162.18402778 163.67217593 164.25291667 163.68101852\n",
            " 161.80060185 158.44236111 153.63152778 147.66763889 142.92763889\n",
            " 139.87388889 138.45643519 136.40814815 134.40648148 134.08328704\n",
            " 136.38106481 143.34722222 153.66231481 161.24986111 166.4050463\n",
            " 169.85921296 170.49398148 169.8949537  169.14060185 168.51078704\n",
            " 151.06106481 152.78717593 154.01236111 156.05175926 157.45541667\n",
            " 158.89393519 159.07981481 158.18157407 156.83666667 154.73921296\n",
            " 150.21365741 145.05898148 140.47356481 137.39268519 135.68273148\n",
            " 133.93481481 133.26425926 133.4275463  137.47550926 145.79240741\n",
            " 155.27453704 161.13162037 165.18648148 167.74671296 168.11152778\n",
            " 167.7587037  167.0212963  166.28166667 147.01930556 148.26388889\n",
            " 149.62625    151.43625    153.10712963 153.67425926 153.26208333\n",
            " 152.64861111 151.3787963  149.07078704 146.26263889 142.17398148\n",
            " 138.48134259 136.40490741 134.02833333 131.47861111 132.03805556\n",
            " 134.96726852 139.86527778 148.47236111 155.33319444 160.59939815\n",
            " 164.00967593 165.47296296 166.13458333 165.3350463  164.54606481\n",
            " 163.55337963 143.31328704 144.1174537  145.64166667 147.48824074\n",
            " 148.78972222 148.3375     147.99657407 147.11444444 146.02009259\n",
            " 143.72074074 142.62601852 139.58208333 136.98398148 135.29023148\n",
            " 131.86078704 130.24171296 132.30074074 135.82083333 141.57689815\n",
            " 147.80875    153.68592593 159.39310185 162.10518519 162.85851852\n",
            " 163.07824074 162.08944444 161.25106481 159.88763889]\n"
          ],
          "name": "stdout"
        }
      ]
    },
    {
      "cell_type": "code",
      "metadata": {
        "id": "T_uW80R_ZkUH",
        "colab_type": "code",
        "colab": {}
      },
      "source": [
        "# tiền xử lí dữ liệu train\n",
        "X_train, Y_train = preprocessingData(train_img, train_lbl)"
      ],
      "execution_count": 66,
      "outputs": []
    },
    {
      "cell_type": "code",
      "metadata": {
        "id": "aEmcRIUpQMEy",
        "colab_type": "code",
        "colab": {
          "base_uri": "https://localhost:8080/",
          "height": 1000
        },
        "outputId": "b41ac9dc-0b3a-4689-bd6c-fcda97bf5fd5"
      },
      "source": [
        "print(X_train.shape)\n",
        "print(X_train[0])"
      ],
      "execution_count": 68,
      "outputs": [
        {
          "output_type": "stream",
          "text": [
            "(21600, 400)\n",
            "[ 3.30641882e+01 -9.73254989e+00 -8.21639824e+00 -4.17738125e-01\n",
            " -5.78824347e+00  6.60917986e-01  6.11302305e+00 -5.13934039e+00\n",
            " -2.30006228e+00 -6.63957242e+00  3.60859351e+00  2.94696786e+00\n",
            "  2.15780649e-01 -4.49885630e+00  3.97064025e+00 -3.54574888e-01\n",
            "  1.49040448e+00 -2.84230168e-01  1.02342860e+00 -1.28371349e-02\n",
            " -3.85763605e+00  3.37762566e+00 -1.37338345e+00  5.14274574e-01\n",
            "  2.51265731e+00 -8.35483786e-02 -3.07229265e-01 -1.27521506e+00\n",
            " -2.62715883e+00 -2.39852049e-01  9.88084416e-01 -2.92300021e+00\n",
            "  2.15170989e+00  1.29076642e+00  1.83766062e+00 -9.18499341e-01\n",
            "  2.16289956e+00  2.94951858e+00  2.38565914e-01  6.24242528e-01\n",
            "  1.79875136e+00  2.65646830e+00 -7.25022219e-02  2.02228236e+00\n",
            " -1.59004844e+00  2.30517825e+00  3.59544957e-01 -1.02657985e+00\n",
            " -3.44619914e-01  1.41760031e-01  1.83059796e+00  2.03566504e+00\n",
            " -1.13714625e-02 -2.88367741e+00  3.70826601e+00  1.00623467e-01\n",
            " -2.08432399e-01 -1.74007881e+00 -1.41777558e-01  1.67242589e+00\n",
            "  5.69857657e-01  3.02562167e+00  1.36501326e+00  1.34989891e+00\n",
            "  1.24686839e+00  1.05598685e+00 -3.35773269e+00 -4.21871698e-01\n",
            "  1.68166618e+00 -1.03474478e+00  2.45705823e-01  1.80619333e+00\n",
            " -6.83864249e-01 -9.98777687e-01  7.04888165e-02  4.96217665e-01\n",
            "  2.39860859e-01  1.55753298e-01 -4.71357532e-01  7.65142935e-01\n",
            "  2.03652170e+00  1.66853203e+00 -7.85829730e-02  1.17886803e-01\n",
            " -1.35938767e+00  5.94289165e-01  4.41722983e-01 -8.48751447e-01\n",
            "  3.86353431e-01  1.72201532e+00  4.66920746e-01  5.00634453e-01\n",
            "  1.53306787e+00 -2.31536131e-01 -6.39903144e-01  5.93592756e-01\n",
            " -7.34133071e-01 -4.62116040e-01 -7.21703708e-02  1.22668866e+00\n",
            "  1.18452350e+00  6.80851191e-01  1.29181636e+00 -8.62285254e-01\n",
            "  1.60206774e+00 -6.29585173e-01  7.60998129e-01  9.94609867e-02\n",
            " -7.09870123e-01  8.82318205e-03  5.96724534e-01 -2.57401915e-01\n",
            "  7.23452694e-01 -2.13502261e+00  2.67104530e-01  5.60252983e-01\n",
            "  4.26093210e-01  8.34659444e-01 -3.60548927e-01  9.81407028e-02\n",
            " -7.11080015e-01 -4.89953288e-01  1.96475772e-01  1.94553455e+00\n",
            "  1.04284040e+00 -1.45467050e-01  2.81357366e-01  6.50997649e-01\n",
            "  4.17744452e-01  1.56835792e+00 -8.38136279e-01 -8.06943499e-01\n",
            " -1.20817657e+00 -3.40549047e-01 -2.21867679e-01 -4.86504769e-01\n",
            "  1.16839169e+00 -2.00445298e-01  6.49421464e-01 -1.40966161e-01\n",
            "  2.85861530e-01 -3.85417130e-01  5.33624179e-01 -7.17393430e-01\n",
            "  1.25181945e-01 -6.96758675e-01  7.61995861e-01  2.41153831e-01\n",
            " -5.84519770e-01  2.27496131e-01 -9.02442476e-03  2.21411677e-01\n",
            " -8.13223385e-02 -2.03274973e-01  7.87515361e-01  3.60681977e-01\n",
            " -8.66821426e-01 -2.78536038e-01  5.15279470e-02  5.30097507e-01\n",
            "  9.76887120e-01  3.85142948e-01  4.37992735e-01 -1.59394876e-01\n",
            "  1.79675811e-01 -6.86439422e-02  5.66497192e-01  6.68064023e-01\n",
            " -1.89738777e-01 -5.37883168e-01  2.34043217e-02 -1.24522148e-01\n",
            "  3.09437928e-01 -5.14766384e-01 -3.35627798e-01 -7.91080486e-01\n",
            " -1.13133400e+00  1.17190377e-02  2.29534427e-01  3.52075469e-01\n",
            "  1.78105689e-01 -4.03045204e-01  3.87586494e-02  4.53149878e-01\n",
            "  5.73239984e-02 -4.52197256e-01  2.30761264e-02  3.13994065e-03\n",
            " -4.95493543e-01  9.84353504e-02  1.86105358e-01  7.56325033e-01\n",
            " -1.13436849e+00 -1.14261444e-01  3.67739991e-02  3.53114309e-02\n",
            "  2.21121199e-02  4.16285524e-01 -2.99844042e-02  4.73767962e-02\n",
            "  4.27776366e-01 -2.03708671e-01  3.02361707e-01  3.62119086e-01\n",
            " -2.33065380e-01  7.37741558e-02 -6.37658565e-01  2.86264072e-01\n",
            " -1.23897301e+00  2.60376396e-01 -1.01318731e+00  5.33960615e-01\n",
            "  3.88654402e-01  4.82782251e-01  3.80411179e-01 -1.17463308e-01\n",
            "  2.38222708e-01 -2.69053804e-01  1.02995572e+00 -3.05992288e-01\n",
            " -6.66963320e-02  1.77284706e-01  1.33475767e-02 -3.76253170e-01\n",
            " -2.85723244e-01 -1.62560168e-01 -8.15917732e-02  3.35638911e-01\n",
            " -6.59212130e-01  3.30447055e-01  3.45783670e-01  3.07617114e-01\n",
            "  4.42904162e-01  5.07769645e-01 -4.70265763e-02  1.28067772e-01\n",
            "  6.20769157e-01 -2.36830708e-01 -3.84079890e-01 -1.15918691e-01\n",
            " -5.46772162e-01  8.18297955e-01 -8.21957874e-01  2.53170625e-01\n",
            "  3.09401755e-01 -9.13137779e-02  5.71425309e-01  4.95279338e-02\n",
            " -1.14355957e-01  5.84413772e-02 -2.61899074e-02 -4.15703881e-01\n",
            "  7.56433883e-02 -3.53283023e-01  1.60912316e-01 -1.51716348e-01\n",
            "  1.22156261e-01  2.59078830e-02  2.45657966e-01 -3.13990899e-01\n",
            "  1.53044049e-01 -8.05168134e-02 -3.63909038e-01 -1.81245556e-01\n",
            "  4.30524536e-01  5.88025276e-01 -2.57399960e-01  6.61335835e-01\n",
            " -4.04969343e-01 -1.95351315e-01 -3.73089622e-01 -2.78504131e-01\n",
            "  9.70037125e-02 -3.60371432e-01  2.54144015e-01  2.46151947e-01\n",
            " -1.57366551e-01 -6.65700376e-01 -5.93152539e-01 -1.40871631e-01\n",
            " -3.93685023e-01  3.72924626e-01 -1.41980543e-01 -1.86965796e-01\n",
            " -2.06101744e-01  1.00975533e-01  3.72635005e-02  2.16355217e-01\n",
            "  1.08916709e-01 -3.59555896e-02  3.62297620e-01  4.74524845e-01\n",
            " -2.32246014e-01 -1.44848553e-01  3.39983606e-01  2.72094292e-01\n",
            " -6.27029974e-03 -4.10794327e-01 -9.77906619e-02 -3.25139230e-02\n",
            " -7.34574540e-02 -2.54559871e-01 -3.95941773e-02  3.79220575e-01\n",
            "  1.24384961e-01 -1.01733682e-01 -1.08507704e-01 -5.49322057e-02\n",
            " -1.05556628e-01 -9.11237643e-03 -1.30552825e-01 -5.19146900e-01\n",
            "  4.81330668e-02 -9.78748627e-02 -6.72874219e-02 -3.66086704e-02\n",
            " -1.66495880e-01  1.09755785e-01  6.58149531e-02  1.01324668e-01\n",
            "  2.07119190e-01 -1.07282649e-01 -4.33256926e-01 -3.06817518e-01\n",
            "  5.07746239e-01 -6.03406739e-02 -3.20546713e-02  1.40712205e-01\n",
            " -1.40087561e-01 -3.85197814e-01  3.34913063e-02  2.48941530e-01\n",
            " -4.51671131e-02 -4.89516312e-02  1.37252207e-01 -2.85743244e-01\n",
            " -2.41020632e-01 -1.69859585e-01  2.10981260e-01 -2.20802733e-01\n",
            "  8.53046695e-02 -1.61459474e-01  7.38005648e-02 -2.05576455e-01\n",
            "  3.35985245e-01  2.43899843e-02 -1.04153518e-01  1.04578447e-01\n",
            "  2.10636911e-01  5.81801712e-01  6.74181792e-02 -7.58975350e-02\n",
            " -1.69569687e-01  2.22337324e-01  7.04377564e-01 -7.51393214e-02\n",
            "  2.88231743e-01 -4.27560951e-01 -5.15289948e-01 -4.98682061e-03\n",
            " -2.37123749e-01 -3.93878273e-01 -3.51318892e-01 -6.26101216e-01\n",
            " -3.04953261e-01 -3.49322050e-02  5.65904247e-01  7.16863949e-03\n",
            " -1.28089826e-01  4.47833446e-02 -2.28184292e-01  2.65465455e-01\n",
            "  1.72486007e-02 -2.44871838e-01  4.88900667e-01  4.49505181e-02\n",
            " -2.23691800e-01 -1.06879243e-01 -8.95155183e-02 -3.46755122e-02\n",
            "  1.65675392e-01  2.65188348e-01 -2.39104562e-01 -4.78908594e-02\n",
            "  4.52414888e-01 -1.71403960e-01  6.13872007e-02 -9.07769462e-02\n",
            " -1.45242344e-01  1.06355075e-01 -2.70365314e-01  9.29702077e-02\n",
            " -3.56459919e-01 -5.03203328e-01 -1.60583543e-01 -2.63879464e-01\n",
            " -5.17904073e-02 -7.78594083e-02 -1.37949081e-01  3.58424540e-01]\n"
          ],
          "name": "stdout"
        }
      ]
    },
    {
      "cell_type": "code",
      "metadata": {
        "id": "AumDaJvUJRVC",
        "colab_type": "code",
        "colab": {
          "base_uri": "https://localhost:8080/",
          "height": 156
        },
        "outputId": "e267abd3-40f4-4d7c-ad11-d4a2bbb581c4"
      },
      "source": [
        "# train mô hình hồi quy Logistic\n",
        "model = trainLogisticRegression(X_train, Y_train)"
      ],
      "execution_count": 69,
      "outputs": [
        {
          "output_type": "stream",
          "text": [
            "/usr/local/lib/python3.6/dist-packages/sklearn/linear_model/_logistic.py:940: ConvergenceWarning: lbfgs failed to converge (status=1):\n",
            "STOP: TOTAL NO. of ITERATIONS REACHED LIMIT.\n",
            "\n",
            "Increase the number of iterations (max_iter) or scale the data as shown in:\n",
            "    https://scikit-learn.org/stable/modules/preprocessing.html\n",
            "Please also refer to the documentation for alternative solver options:\n",
            "    https://scikit-learn.org/stable/modules/linear_model.html#logistic-regression\n",
            "  extra_warning_msg=_LOGISTIC_SOLVER_CONVERGENCE_MSG)\n"
          ],
          "name": "stderr"
        }
      ]
    },
    {
      "cell_type": "code",
      "metadata": {
        "id": "0BxCAwdRJgr2",
        "colab_type": "code",
        "colab": {}
      },
      "source": [
        "# save model\n",
        "saveModel(model, 'logistic.pkl')"
      ],
      "execution_count": 70,
      "outputs": []
    },
    {
      "cell_type": "code",
      "metadata": {
        "id": "tsP3349iJ3Wu",
        "colab_type": "code",
        "colab": {
          "base_uri": "https://localhost:8080/",
          "height": 35
        },
        "outputId": "f2668c14-a89a-4838-8f36-379f9262153b"
      },
      "source": [
        "# test model\n",
        "\n",
        "# load model logistic\n",
        "model_pre = loadModel('logistic.pkl')\n",
        "\n",
        "# tiền xử lí dữ liệu test dựa trên scaler, PCA\n",
        "X_test, Y_test = preprocessingData(test_img, test_lbl)\n",
        "\n",
        "# tiến hành test với dữ liệu đã tiền xử lí\n",
        "testLogisticRegression(X_test, Y_test, model_pre)"
      ],
      "execution_count": 71,
      "outputs": [
        {
          "output_type": "stream",
          "text": [
            "Accuracy of the model on the 5400 test images: 100 %\n"
          ],
          "name": "stdout"
        }
      ]
    },
    {
      "cell_type": "code",
      "metadata": {
        "id": "dLUTnkVwzpHd",
        "colab_type": "code",
        "colab": {
          "base_uri": "https://localhost:8080/",
          "height": 1000
        },
        "outputId": "9d1fd551-5758-45aa-f412-09b2ce90aa38"
      },
      "source": [
        "# kiểm tra thử 1 số hình\n",
        "for i in range(10):\n",
        "  # if model_pre.predict(X_test[i].reshape(1,-1)) != Y_test[i]:\n",
        "  print(Y_test[i], model_pre.predict(X_test[i].reshape(1,-1)))\n",
        "  plt.imshow((test_img[i].astype(np.uint8)).reshape(-1,28), cmap=\"gray\")\n",
        "  plt.show()"
      ],
      "execution_count": 72,
      "outputs": [
        {
          "output_type": "stream",
          "text": [
            "19 [19]\n"
          ],
          "name": "stdout"
        },
        {
          "output_type": "display_data",
          "data": {
            "image/png": "[encoded data removed]",
            "text/plain": [
              "<Figure size 432x288 with 1 Axes>"
            ]
          },
          "metadata": {
            "tags": [],
            "needs_background": "light"
          }
        },
        {
          "output_type": "stream",
          "text": [
            "15 [15]\n"
          ],
          "name": "stdout"
        },
        {
          "output_type": "display_data",
          "data": {
            "image/png": "[encoded data removed]",
            "text/plain": [
              "<Figure size 432x288 with 1 Axes>"
            ]
          },
          "metadata": {
            "tags": [],
            "needs_background": "light"
          }
        },
        {
          "output_type": "stream",
          "text": [
            "1 [1]\n"
          ],
          "name": "stdout"
        },
        {
          "output_type": "display_data",
          "data": {
            "image/png": "[encoded data removed]",
            "text/plain": [
              "<Figure size 432x288 with 1 Axes>"
            ]
          },
          "metadata": {
            "tags": [],
            "needs_background": "light"
          }
        },
        {
          "output_type": "stream",
          "text": [
            "13 [13]\n"
          ],
          "name": "stdout"
        },
        {
          "output_type": "display_data",
          "data": {
            "image/png": "[encoded data removed]",
            "text/plain": [
              "<Figure size 432x288 with 1 Axes>"
            ]
          },
          "metadata": {
            "tags": [],
            "needs_background": "light"
          }
        },
        {
          "output_type": "stream",
          "text": [
            "6 [6]\n"
          ],
          "name": "stdout"
        },
        {
          "output_type": "display_data",
          "data": {
            "image/png": "[encoded data removed]",
            "text/plain": [
              "<Figure size 432x288 with 1 Axes>"
            ]
          },
          "metadata": {
            "tags": [],
            "needs_background": "light"
          }
        },
        {
          "output_type": "stream",
          "text": [
            "21 [21]\n"
          ],
          "name": "stdout"
        },
        {
          "output_type": "display_data",
          "data": {
            "image/png": "[encoded data removed]",
            "text/plain": [
              "<Figure size 432x288 with 1 Axes>"
            ]
          },
          "metadata": {
            "tags": [],
            "needs_background": "light"
          }
        },
        {
          "output_type": "stream",
          "text": [
            "10 [10]\n"
          ],
          "name": "stdout"
        },
        {
          "output_type": "display_data",
          "data": {
            "image/png": "[encoded data removed]",
            "text/plain": [
              "<Figure size 432x288 with 1 Axes>"
            ]
          },
          "metadata": {
            "tags": [],
            "needs_background": "light"
          }
        },
        {
          "output_type": "stream",
          "text": [
            "17 [17]\n"
          ],
          "name": "stdout"
        },
        {
          "output_type": "display_data",
          "data": {
            "image/png": "[encoded data removed]",
            "text/plain": [
              "<Figure size 432x288 with 1 Axes>"
            ]
          },
          "metadata": {
            "tags": [],
            "needs_background": "light"
          }
        },
        {
          "output_type": "stream",
          "text": [
            "18 [18]\n"
          ],
          "name": "stdout"
        },
        {
          "output_type": "display_data",
          "data": {
            "image/png": "[encoded data removed]",
            "text/plain": [
              "<Figure size 432x288 with 1 Axes>"
            ]
          },
          "metadata": {
            "tags": [],
            "needs_background": "light"
          }
        },
        {
          "output_type": "stream",
          "text": [
            "7 [7]\n"
          ],
          "name": "stdout"
        },
        {
          "output_type": "display_data",
          "data": {
            "image/png": "[encoded data removed]",
            "text/plain": [
              "<Figure size 432x288 with 1 Axes>"
            ]
          },
          "metadata": {
            "tags": [],
            "needs_background": "light"
          }
        }
      ]
    },
    {
      "cell_type": "code",
      "metadata": {
        "id": "ikmdRxUC6bbm",
        "colab_type": "code",
        "colab": {}
      },
      "source": [
        "# tiến hành test thực\n",
        "\n",
        "path_test = 'test.csv'\n",
        "\n",
        "# load data\n",
        "X_test, Y_test = loadData(path_test)\n",
        "\n",
        "# load model logistic\n",
        "model_pre = loadModel('logistic.pkl')\n",
        "\n",
        "# tiền xử lí dữ liệu test dựa trên scaler, PCA\n",
        "X_test_pre, Y_test_pre = preprocessingData(X_test, Y_test)\n",
        "\n",
        "# tiến hành test với dữ liệu đã tiền xử lí\n",
        "testLogisticRegression(X_test, Y_test, model_pre)"
      ],
      "execution_count": null,
      "outputs": []
    }
  ]
}